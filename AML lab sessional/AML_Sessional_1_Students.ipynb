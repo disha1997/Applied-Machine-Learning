{
 "cells": [
  {
   "cell_type": "markdown",
   "id": "19e9ad28",
   "metadata": {},
   "source": [
    "# AML Lab Sessional 1 Jupyter Notebook"
   ]
  },
  {
   "cell_type": "markdown",
   "id": "7bd62e2c",
   "metadata": {},
   "source": [
    "### 1. VS Code is a MUST\n",
    "1. You should code in VS Code. Google Colab not allowed\n",
    "\n",
    "### 2. Pre-requisites for lab in VS Code\n",
    "1. Install PDF export support https://saturncloud.io/blog/how-to-export-jupyter-notebook-by-vscode-in-pdf-format/\n",
    "\n",
    "### 3. At the end, export your notebook as html and ipynb \n",
    "1. Open VS Code command palette Shift + Ctrl + P\n",
    "2. Type \"Export Jupyter Notebook\" in the search bar and select \"Export Jupyter Notebook to html\"\n",
    "3. Upload your html AND ipynb here: https://tinyurl.com/y9ptbej2 (In the prompt, put your name correctly else your submission will be rejected)"
   ]
  },
  {
   "cell_type": "markdown",
   "id": "53215768",
   "metadata": {},
   "source": [
    "### 4. Lab Sessional Summary \n",
    "1. A code template is given to you in lab sesional in this jupyter notebook\n",
    "2. The template will follow a linear sequence of TODOs appropriately labelled with question marks\n",
    "3. You will have to fill the TODO question marks to compile those notebook cells and proceed to next cells\n",
    "4. You can think of the linear sequence of TODOs as a guided thought process.\n",
    "5. Sessional is open book. Google, github, browse product documentation ChatGPT - Do anything you want, except copying others. No discussing among yourselves (Sending questions to your seniors and seeking answers is prohibited). If you are caught carrying out these illegal activities, you will be reported for immediate action. \n",
    "6. You CANNOT replace the TODO code template with some other code copied from stack overflow, ChatGPT etc. All your browsing and search should give you insights into finally how you can fit that into the framework I provide for the thought process of solving the problem. You will have to mandatorily fill the question marks and proceed with the lab problem."
   ]
  },
  {
   "cell_type": "code",
   "execution_count": 6,
   "id": "e0921e09",
   "metadata": {},
   "outputs": [],
   "source": [
    "import numpy as np\n",
    "import pandas as pd\n",
    "import sklearn as sk\n",
    "\n",
    "import matplotlib.pyplot as plt\n",
    "import seaborn as sns\n",
    "%matplotlib inline\n",
    "\n",
    "import warnings\n",
    "warnings.filterwarnings(\"ignore\")"
   ]
  },
  {
   "cell_type": "code",
   "execution_count": 2,
   "id": "082003a1",
   "metadata": {},
   "outputs": [
    {
     "data": {
      "text/plain": [
       "'1.3.0'"
      ]
     },
     "execution_count": 2,
     "metadata": {},
     "output_type": "execute_result"
    }
   ],
   "source": [
    "sk.__version__"
   ]
  },
  {
   "cell_type": "markdown",
   "id": "adeb5407",
   "metadata": {},
   "source": [
    "### Problem Definition\n",
    "\n",
    "You are provided with diabetes dataset. Your task is:\n",
    "\n",
    "1. Part 1: To perform EDA and prediction without pipeline\n",
    "2. Part 2: To move EDA and kNN prediction into a pipeline\n",
    "3. Part 3: To combine the pipeline and gridsearch to get best K and weights hyperparameters\n",
    "4. Part 4: Save the model as json file, load & use it to do prediction. This part is optional and will be used to accumulate bonus points as a buffer for the semester lab exam if there is any shortfall"
   ]
  },
  {
   "cell_type": "markdown",
   "id": "875fa98f",
   "metadata": {},
   "source": [
    "# Part 1 - Perform EDA and prediction without pipeline"
   ]
  },
  {
   "cell_type": "code",
   "execution_count": 52,
   "id": "6550eae7",
   "metadata": {},
   "outputs": [
    {
     "data": {
      "text/html": [
       "<div>\n",
       "<style scoped>\n",
       "    .dataframe tbody tr th:only-of-type {\n",
       "        vertical-align: middle;\n",
       "    }\n",
       "\n",
       "    .dataframe tbody tr th {\n",
       "        vertical-align: top;\n",
       "    }\n",
       "\n",
       "    .dataframe thead th {\n",
       "        text-align: right;\n",
       "    }\n",
       "</style>\n",
       "<table border=\"1\" class=\"dataframe\">\n",
       "  <thead>\n",
       "    <tr style=\"text-align: right;\">\n",
       "      <th></th>\n",
       "      <th>Pregnancies</th>\n",
       "      <th>Glucose</th>\n",
       "      <th>BloodPressure</th>\n",
       "      <th>SkinThickness</th>\n",
       "      <th>Insulin</th>\n",
       "      <th>BMI</th>\n",
       "      <th>DiabetesPedigreeFunction</th>\n",
       "      <th>Age</th>\n",
       "      <th>Outcome</th>\n",
       "    </tr>\n",
       "  </thead>\n",
       "  <tbody>\n",
       "    <tr>\n",
       "      <th>0</th>\n",
       "      <td>2</td>\n",
       "      <td>138</td>\n",
       "      <td>62</td>\n",
       "      <td>35</td>\n",
       "      <td>0</td>\n",
       "      <td>33.6</td>\n",
       "      <td>0.127</td>\n",
       "      <td>47</td>\n",
       "      <td>1</td>\n",
       "    </tr>\n",
       "    <tr>\n",
       "      <th>1</th>\n",
       "      <td>0</td>\n",
       "      <td>84</td>\n",
       "      <td>82</td>\n",
       "      <td>31</td>\n",
       "      <td>125</td>\n",
       "      <td>38.2</td>\n",
       "      <td>0.233</td>\n",
       "      <td>23</td>\n",
       "      <td>0</td>\n",
       "    </tr>\n",
       "    <tr>\n",
       "      <th>2</th>\n",
       "      <td>0</td>\n",
       "      <td>145</td>\n",
       "      <td>0</td>\n",
       "      <td>0</td>\n",
       "      <td>0</td>\n",
       "      <td>44.2</td>\n",
       "      <td>0.630</td>\n",
       "      <td>31</td>\n",
       "      <td>1</td>\n",
       "    </tr>\n",
       "    <tr>\n",
       "      <th>3</th>\n",
       "      <td>0</td>\n",
       "      <td>135</td>\n",
       "      <td>68</td>\n",
       "      <td>42</td>\n",
       "      <td>250</td>\n",
       "      <td>42.3</td>\n",
       "      <td>0.365</td>\n",
       "      <td>24</td>\n",
       "      <td>1</td>\n",
       "    </tr>\n",
       "    <tr>\n",
       "      <th>4</th>\n",
       "      <td>1</td>\n",
       "      <td>139</td>\n",
       "      <td>62</td>\n",
       "      <td>41</td>\n",
       "      <td>480</td>\n",
       "      <td>40.7</td>\n",
       "      <td>0.536</td>\n",
       "      <td>21</td>\n",
       "      <td>0</td>\n",
       "    </tr>\n",
       "  </tbody>\n",
       "</table>\n",
       "</div>"
      ],
      "text/plain": [
       "   Pregnancies  Glucose  BloodPressure  SkinThickness  Insulin   BMI  \\\n",
       "0            2      138             62             35        0  33.6   \n",
       "1            0       84             82             31      125  38.2   \n",
       "2            0      145              0              0        0  44.2   \n",
       "3            0      135             68             42      250  42.3   \n",
       "4            1      139             62             41      480  40.7   \n",
       "\n",
       "   DiabetesPedigreeFunction  Age  Outcome  \n",
       "0                     0.127   47        1  \n",
       "1                     0.233   23        0  \n",
       "2                     0.630   31        1  \n",
       "3                     0.365   24        1  \n",
       "4                     0.536   21        0  "
      ]
     },
     "execution_count": 52,
     "metadata": {},
     "output_type": "execute_result"
    }
   ],
   "source": [
    "# TODO: 1 Load the csv file\n",
    "df = pd.read_csv('d2.csv')\n",
    "df.head()"
   ]
  },
  {
   "cell_type": "code",
   "execution_count": 53,
   "id": "b5283e45",
   "metadata": {},
   "outputs": [
    {
     "name": "stdout",
     "output_type": "stream",
     "text": [
      "<class 'pandas.core.frame.DataFrame'>\n",
      "RangeIndex: 2000 entries, 0 to 1999\n",
      "Data columns (total 9 columns):\n",
      " #   Column                    Non-Null Count  Dtype  \n",
      "---  ------                    --------------  -----  \n",
      " 0   Pregnancies               2000 non-null   int64  \n",
      " 1   Glucose                   2000 non-null   int64  \n",
      " 2   BloodPressure             2000 non-null   int64  \n",
      " 3   SkinThickness             2000 non-null   int64  \n",
      " 4   Insulin                   2000 non-null   int64  \n",
      " 5   BMI                       2000 non-null   float64\n",
      " 6   DiabetesPedigreeFunction  2000 non-null   float64\n",
      " 7   Age                       2000 non-null   int64  \n",
      " 8   Outcome                   2000 non-null   int64  \n",
      "dtypes: float64(2), int64(7)\n",
      "memory usage: 140.8 KB\n"
     ]
    }
   ],
   "source": [
    "# TODO: 2 Display information about dataframe\n",
    "df.info(verbose=True, show_counts=True) "
   ]
  },
  {
   "cell_type": "code",
   "execution_count": 54,
   "id": "96d8267f",
   "metadata": {},
   "outputs": [
    {
     "data": {
      "text/plain": [
       "Pregnancies                 0\n",
       "Glucose                     0\n",
       "BloodPressure               0\n",
       "SkinThickness               0\n",
       "Insulin                     0\n",
       "BMI                         0\n",
       "DiabetesPedigreeFunction    0\n",
       "Age                         0\n",
       "Outcome                     0\n",
       "dtype: int64"
      ]
     },
     "execution_count": 54,
     "metadata": {},
     "output_type": "execute_result"
    }
   ],
   "source": [
    "# TODO: 3 Check if there are nulls and display their total for each feature\n",
    "df.isna().sum()"
   ]
  },
  {
   "cell_type": "code",
   "execution_count": 55,
   "id": "a3ac05f0",
   "metadata": {},
   "outputs": [
    {
     "name": "stdout",
     "output_type": "stream",
     "text": [
      "Number of duplicates = 1256\n"
     ]
    }
   ],
   "source": [
    "# TODO: 4 Check for duplicates\n",
    "dupsSeries = df.duplicated() # Should return a pandas Series with True False for every row\n",
    "\n",
    "# Print the number of duplicates\n",
    "print(f\"Number of duplicates = {dupsSeries.sum()}\")"
   ]
  },
  {
   "cell_type": "code",
   "execution_count": 56,
   "id": "9257f7e9",
   "metadata": {},
   "outputs": [],
   "source": [
    "# TODO: 5 Drop duplicates inplace\n",
    "df.drop_duplicates(inplace=True)"
   ]
  },
  {
   "cell_type": "code",
   "execution_count": 57,
   "id": "a2966934",
   "metadata": {},
   "outputs": [
    {
     "name": "stdout",
     "output_type": "stream",
     "text": [
      "<class 'pandas.core.frame.DataFrame'>\n",
      "Int64Index: 744 entries, 0 to 1568\n",
      "Data columns (total 9 columns):\n",
      " #   Column                    Non-Null Count  Dtype  \n",
      "---  ------                    --------------  -----  \n",
      " 0   Pregnancies               744 non-null    int64  \n",
      " 1   Glucose                   744 non-null    int64  \n",
      " 2   BloodPressure             744 non-null    int64  \n",
      " 3   SkinThickness             744 non-null    int64  \n",
      " 4   Insulin                   744 non-null    int64  \n",
      " 5   BMI                       744 non-null    float64\n",
      " 6   DiabetesPedigreeFunction  744 non-null    float64\n",
      " 7   Age                       744 non-null    int64  \n",
      " 8   Outcome                   744 non-null    int64  \n",
      "dtypes: float64(2), int64(7)\n",
      "memory usage: 58.1 KB\n"
     ]
    }
   ],
   "source": [
    "# TODO: 6 Display how many rows exist in dataframe after dropping duplicates\n",
    "df.info(verbose=True, show_counts=True)"
   ]
  },
  {
   "cell_type": "code",
   "execution_count": 58,
   "id": "9aa203e5",
   "metadata": {},
   "outputs": [
    {
     "data": {
      "text/plain": [
       "Pregnancies                  17\n",
       "Glucose                     136\n",
       "BloodPressure                47\n",
       "SkinThickness                53\n",
       "Insulin                     182\n",
       "BMI                         247\n",
       "DiabetesPedigreeFunction    505\n",
       "Age                          52\n",
       "Outcome                       2\n",
       "dtype: int64"
      ]
     },
     "execution_count": 58,
     "metadata": {},
     "output_type": "execute_result"
    }
   ],
   "source": [
    "# TODO: 7 Identify candidate features for encoding by seeing how many distinct values are present in every column \n",
    "df.nunique() "
   ]
  },
  {
   "cell_type": "code",
   "execution_count": 59,
   "id": "54a9b308",
   "metadata": {},
   "outputs": [
    {
     "data": {
      "text/plain": [
       "array([ 2,  0,  1,  4,  8,  3,  6,  5,  7, 10, 12,  9, 11, 13, 15, 17, 14],\n",
       "      dtype=int64)"
      ]
     },
     "execution_count": 59,
     "metadata": {},
     "output_type": "execute_result"
    }
   ],
   "source": [
    "# TODO: 8\n",
    "# Display all possible values that the column named \"Pregnancies\" has in this dataframe\n",
    "df[\"Pregnancies\"].unique()\n",
    "\n",
    "# Based on different possible values of Pregnancies, would you choose this feature to be encoded?\n",
    "# State your reason as 1 sentence comment here\n",
    "# Since the values are already integer values from 0-17, I would not encode it."
   ]
  },
  {
   "cell_type": "code",
   "execution_count": 60,
   "id": "2356465a",
   "metadata": {},
   "outputs": [
    {
     "data": {
      "text/plain": [
       "0.6599462365591398"
      ]
     },
     "execution_count": 60,
     "metadata": {},
     "output_type": "execute_result"
    }
   ],
   "source": [
    "# TODO: 9 Find if this is an dataset is imbalanced wrt target variable classes\n",
    "zeroClassCount = df[df[\"Outcome\"] == 0][\"Outcome\"].count()\n",
    "zeroClassCount/len(df)"
   ]
  },
  {
   "cell_type": "code",
   "execution_count": 61,
   "id": "98baf21d",
   "metadata": {},
   "outputs": [
    {
     "data": {
      "text/plain": [
       "0.3400537634408602"
      ]
     },
     "execution_count": 61,
     "metadata": {},
     "output_type": "execute_result"
    }
   ],
   "source": [
    "zeroClassCount = df[df[\"Outcome\"] == 1][\"Outcome\"].count()\n",
    "zeroClassCount/len(df)"
   ]
  },
  {
   "cell_type": "code",
   "execution_count": 35,
   "id": "d0b2ba68",
   "metadata": {},
   "outputs": [
    {
     "data": {
      "image/png": "[encoded data removed]",
      "text/plain": [
       "<Figure size 1200x600 with 2 Axes>"
      ]
     },
     "metadata": {},
     "output_type": "display_data"
    }
   ],
   "source": [
    "# TODO: 10 Run this cell to display correlation matrix heat map\n",
    "# Would you consider dropping any feature based on their correlation? \n",
    "# Type your answers here: features that have low correlation with target variable can be dropped (skin thickness in this case)\n",
    "plt.figure(figsize=(12,6))\n",
    "sns.heatmap(df.corr(),cmap='plasma',fmt='.2g',annot=True,mask=np.triu(df.corr(),+1))\n",
    "plt.show()"
   ]
  },
  {
   "cell_type": "code",
   "execution_count": 62,
   "id": "1c113cab",
   "metadata": {},
   "outputs": [
    {
     "data": {
      "image/png": "[encoded data removed]",
      "text/plain": [
       "<Figure size 1500x500 with 9 Axes>"
      ]
     },
     "metadata": {},
     "output_type": "display_data"
    }
   ],
   "source": [
    "# TODO: 11 Run this cell to see box plots.\n",
    "# Visually examine the box plot and answer this question\n",
    "# How do you identify the 1.5 IQR boundary? \n",
    "# Which two features have most outliers beyond 1.5 IQR?\n",
    "# (Increase the figure size if you want to see larger image)\n",
    "# Put your answer for both questions here\n",
    "# The horizontal line at the top calculated as 1.5 * IQR, points falling beyond these are considered outliers calculated as below:\n",
    "# Lower Bound: (Q1 - 1.5 * IQR)\n",
    "# Upper Bound: (Q3 + 1.5 * IQR)\n",
    "# Insulin and DiabetesPedigreeFunction has the most outliers beyond the IQR range\n",
    "\n",
    "df.plot(kind=\"box\",subplots=True,figsize=(15,5),title=\"Data with Outliers\");"
   ]
  },
  {
   "cell_type": "code",
   "execution_count": null,
   "id": "77808594",
   "metadata": {},
   "outputs": [],
   "source": [
    "# TODO: 12 Did you see any nulls in the dataset? \n",
    "# Ans: no"
   ]
  },
  {
   "cell_type": "code",
   "execution_count": 37,
   "id": "e0ca358f",
   "metadata": {},
   "outputs": [
    {
     "name": "stdout",
     "output_type": "stream",
     "text": [
      "Count of zeros in Column Pregnancies : 112, percentage 0s: 15.05%\n",
      "Count of zeros in Column Glucose : 5, percentage 0s: 0.67%\n",
      "Count of zeros in Column BloodPressure : 34, percentage 0s: 4.57%\n",
      "Count of zeros in Column SkinThickness : 215, percentage 0s: 28.90%\n",
      "Count of zeros in Column Insulin : 359, percentage 0s: 48.25%\n",
      "Count of zeros in Column BMI : 10, percentage 0s: 1.34%\n",
      "Count of zeros in Column DiabetesPedigreeFunction : 0, percentage 0s: 0.00%\n",
      "Count of zeros in Column Age : 0, percentage 0s: 0.00%\n",
      "Count of zeros in Column Outcome : 491, percentage 0s: 65.99%\n"
     ]
    }
   ],
   "source": [
    "# But look at how many features have zeros in them\n",
    "# Display zeroes in each column as percentage\n",
    "for col in df.columns:\n",
    "    count = (df[col] == 0).sum()\n",
    "    percentage = (count * 100)/df.shape[0]\n",
    "    print(f'Count of zeros in Column {col} : {count}, percentage 0s: {percentage:.2f}%')"
   ]
  },
  {
   "cell_type": "markdown",
   "id": "35d62ad2",
   "metadata": {},
   "source": [
    "1. After executing the above cell, you found many cells contain 0.\n",
    "2. Some cells should never contain 0. For e.g. Glucose\n",
    "3. Identify the cells that should never contain 0 and replace those 0 with Nan"
   ]
  },
  {
   "cell_type": "code",
   "execution_count": 38,
   "id": "47cc6541",
   "metadata": {},
   "outputs": [
    {
     "data": {
      "text/plain": [
       "Index(['Pregnancies', 'Glucose', 'BloodPressure', 'SkinThickness', 'Insulin',\n",
       "       'BMI', 'DiabetesPedigreeFunction', 'Age', 'Outcome'],\n",
       "      dtype='object')"
      ]
     },
     "execution_count": 38,
     "metadata": {},
     "output_type": "execute_result"
    }
   ],
   "source": [
    "df.columns"
   ]
  },
  {
   "cell_type": "code",
   "execution_count": 63,
   "id": "cd3ab3f5",
   "metadata": {},
   "outputs": [],
   "source": [
    "# TODO: 13 Replace 0 with Nan for features that should never contain 0\n",
    "# Choose 5 columns you want to replace 0 with Nan\n",
    "df[['Glucose','BloodPressure','SkinThickness','Insulin','BMI']] = \\\n",
    "    df[['Glucose','BloodPressure','SkinThickness','Insulin','BMI']].replace(0, np.NaN)"
   ]
  },
  {
   "cell_type": "code",
   "execution_count": 65,
   "id": "32ce77f7",
   "metadata": {},
   "outputs": [
    {
     "data": {
      "text/plain": [
       "Pregnancies                   0\n",
       "Glucose                       5\n",
       "BloodPressure                34\n",
       "SkinThickness               215\n",
       "Insulin                     359\n",
       "BMI                          10\n",
       "DiabetesPedigreeFunction      0\n",
       "Age                           0\n",
       "Outcome                       0\n",
       "dtype: int64"
      ]
     },
     "execution_count": 65,
     "metadata": {},
     "output_type": "execute_result"
    }
   ],
   "source": [
    "# TODO: 14  Now do null check again to ensure the right featues have Nans. Otherwise go back and fix\n",
    "\n",
    "df.isna().sum()"
   ]
  },
  {
   "cell_type": "code",
   "execution_count": 66,
   "id": "109f7af9",
   "metadata": {},
   "outputs": [
    {
     "data": {
      "text/plain": [
       "pandas.core.series.Series"
      ]
     },
     "execution_count": 66,
     "metadata": {},
     "output_type": "execute_result"
    }
   ],
   "source": [
    "y = df.pop(\"Outcome\") #Setup target variable\n",
    "type(y)"
   ]
  },
  {
   "cell_type": "code",
   "execution_count": null,
   "id": "114e7d5a",
   "metadata": {},
   "outputs": [],
   "source": [
    "# TODO: 15\n",
    "\n",
    "# Answer these questions with short one liner right in this cell as a comment\n",
    "#\n",
    "# 1. What does the pop operation do?\n",
    "# It deletes the column that is provided as argument and returns it\n",
    "#\n",
    "# 2. Is pop() idempotent or non-idempotent operation?\n",
    "#    non-idempotent operation\n",
    "#\n",
    "# 3. How do you check if an operation is idempotent/non-idempotent?\n",
    "#    if applying same operation multiple times has same effect then it is idempotent else it is non-idempotent\n",
    "#"
   ]
  },
  {
   "cell_type": "code",
   "execution_count": 67,
   "id": "2e8eddba",
   "metadata": {},
   "outputs": [],
   "source": [
    "X = df # Setup independent variables"
   ]
  },
  {
   "cell_type": "code",
   "execution_count": 131,
   "id": "fb9034d4",
   "metadata": {},
   "outputs": [],
   "source": [
    "from sklearn.model_selection import train_test_split\n",
    "\n",
    "# Fill this out\n",
    "X_train, X_test, y_train, y_test = train_test_split(X, y, test_size=0.25, random_state=0, stratify=y)"
   ]
  },
  {
   "cell_type": "code",
   "execution_count": 132,
   "id": "e3ac3ba0",
   "metadata": {},
   "outputs": [],
   "source": [
    "# TODO: 16 Answer these questions\n",
    "# 1. Did you use stratify?\n",
    "#    yes\n",
    "\n",
    "# 2. If yes, on which column and why? If not, why not?\n",
    "#    column:y, this makes sure there is equal representation of datapoints of both classes 0 and 1, \n",
    "#    in train and test (the % of points belong to each class will be same in train and test)\n",
    "#"
   ]
  },
  {
   "cell_type": "code",
   "execution_count": 133,
   "id": "39b22b5e",
   "metadata": {},
   "outputs": [
    {
     "data": {
      "text/html": [
       "<div>\n",
       "<style scoped>\n",
       "    .dataframe tbody tr th:only-of-type {\n",
       "        vertical-align: middle;\n",
       "    }\n",
       "\n",
       "    .dataframe tbody tr th {\n",
       "        vertical-align: top;\n",
       "    }\n",
       "\n",
       "    .dataframe thead th {\n",
       "        text-align: right;\n",
       "    }\n",
       "</style>\n",
       "<table border=\"1\" class=\"dataframe\">\n",
       "  <thead>\n",
       "    <tr style=\"text-align: right;\">\n",
       "      <th></th>\n",
       "      <th>Pregnancies</th>\n",
       "      <th>Glucose</th>\n",
       "      <th>BloodPressure</th>\n",
       "      <th>SkinThickness</th>\n",
       "      <th>Insulin</th>\n",
       "      <th>BMI</th>\n",
       "      <th>DiabetesPedigreeFunction</th>\n",
       "      <th>Age</th>\n",
       "    </tr>\n",
       "  </thead>\n",
       "  <tbody>\n",
       "    <tr>\n",
       "      <th>616</th>\n",
       "      <td>6</td>\n",
       "      <td>117.0</td>\n",
       "      <td>96.0</td>\n",
       "      <td>NaN</td>\n",
       "      <td>NaN</td>\n",
       "      <td>28.7</td>\n",
       "      <td>0.157</td>\n",
       "      <td>30</td>\n",
       "    </tr>\n",
       "    <tr>\n",
       "      <th>48</th>\n",
       "      <td>7</td>\n",
       "      <td>103.0</td>\n",
       "      <td>66.0</td>\n",
       "      <td>32.0</td>\n",
       "      <td>NaN</td>\n",
       "      <td>39.1</td>\n",
       "      <td>0.344</td>\n",
       "      <td>31</td>\n",
       "    </tr>\n",
       "    <tr>\n",
       "      <th>200</th>\n",
       "      <td>0</td>\n",
       "      <td>113.0</td>\n",
       "      <td>80.0</td>\n",
       "      <td>16.0</td>\n",
       "      <td>NaN</td>\n",
       "      <td>31.0</td>\n",
       "      <td>0.874</td>\n",
       "      <td>21</td>\n",
       "    </tr>\n",
       "    <tr>\n",
       "      <th>101</th>\n",
       "      <td>1</td>\n",
       "      <td>151.0</td>\n",
       "      <td>60.0</td>\n",
       "      <td>NaN</td>\n",
       "      <td>NaN</td>\n",
       "      <td>26.1</td>\n",
       "      <td>0.179</td>\n",
       "      <td>22</td>\n",
       "    </tr>\n",
       "    <tr>\n",
       "      <th>615</th>\n",
       "      <td>3</td>\n",
       "      <td>106.0</td>\n",
       "      <td>72.0</td>\n",
       "      <td>NaN</td>\n",
       "      <td>NaN</td>\n",
       "      <td>25.8</td>\n",
       "      <td>0.207</td>\n",
       "      <td>27</td>\n",
       "    </tr>\n",
       "    <tr>\n",
       "      <th>...</th>\n",
       "      <td>...</td>\n",
       "      <td>...</td>\n",
       "      <td>...</td>\n",
       "      <td>...</td>\n",
       "      <td>...</td>\n",
       "      <td>...</td>\n",
       "      <td>...</td>\n",
       "      <td>...</td>\n",
       "    </tr>\n",
       "    <tr>\n",
       "      <th>276</th>\n",
       "      <td>7</td>\n",
       "      <td>106.0</td>\n",
       "      <td>60.0</td>\n",
       "      <td>24.0</td>\n",
       "      <td>NaN</td>\n",
       "      <td>26.5</td>\n",
       "      <td>0.296</td>\n",
       "      <td>29</td>\n",
       "    </tr>\n",
       "    <tr>\n",
       "      <th>687</th>\n",
       "      <td>1</td>\n",
       "      <td>107.0</td>\n",
       "      <td>50.0</td>\n",
       "      <td>19.0</td>\n",
       "      <td>NaN</td>\n",
       "      <td>28.3</td>\n",
       "      <td>0.181</td>\n",
       "      <td>29</td>\n",
       "    </tr>\n",
       "    <tr>\n",
       "      <th>60</th>\n",
       "      <td>2</td>\n",
       "      <td>84.0</td>\n",
       "      <td>NaN</td>\n",
       "      <td>NaN</td>\n",
       "      <td>NaN</td>\n",
       "      <td>NaN</td>\n",
       "      <td>0.304</td>\n",
       "      <td>21</td>\n",
       "    </tr>\n",
       "    <tr>\n",
       "      <th>404</th>\n",
       "      <td>5</td>\n",
       "      <td>168.0</td>\n",
       "      <td>64.0</td>\n",
       "      <td>NaN</td>\n",
       "      <td>NaN</td>\n",
       "      <td>32.9</td>\n",
       "      <td>0.135</td>\n",
       "      <td>41</td>\n",
       "    </tr>\n",
       "    <tr>\n",
       "      <th>636</th>\n",
       "      <td>5</td>\n",
       "      <td>104.0</td>\n",
       "      <td>74.0</td>\n",
       "      <td>NaN</td>\n",
       "      <td>NaN</td>\n",
       "      <td>28.8</td>\n",
       "      <td>0.153</td>\n",
       "      <td>48</td>\n",
       "    </tr>\n",
       "  </tbody>\n",
       "</table>\n",
       "<p>270 rows × 8 columns</p>\n",
       "</div>"
      ],
      "text/plain": [
       "     Pregnancies  Glucose  BloodPressure  SkinThickness  Insulin   BMI  \\\n",
       "616            6    117.0           96.0            NaN      NaN  28.7   \n",
       "48             7    103.0           66.0           32.0      NaN  39.1   \n",
       "200            0    113.0           80.0           16.0      NaN  31.0   \n",
       "101            1    151.0           60.0            NaN      NaN  26.1   \n",
       "615            3    106.0           72.0            NaN      NaN  25.8   \n",
       "..           ...      ...            ...            ...      ...   ...   \n",
       "276            7    106.0           60.0           24.0      NaN  26.5   \n",
       "687            1    107.0           50.0           19.0      NaN  28.3   \n",
       "60             2     84.0            NaN            NaN      NaN   NaN   \n",
       "404            5    168.0           64.0            NaN      NaN  32.9   \n",
       "636            5    104.0           74.0            NaN      NaN  28.8   \n",
       "\n",
       "     DiabetesPedigreeFunction  Age  \n",
       "616                     0.157   30  \n",
       "48                      0.344   31  \n",
       "200                     0.874   21  \n",
       "101                     0.179   22  \n",
       "615                     0.207   27  \n",
       "..                        ...  ...  \n",
       "276                     0.296   29  \n",
       "687                     0.181   29  \n",
       "60                      0.304   21  \n",
       "404                     0.135   41  \n",
       "636                     0.153   48  \n",
       "\n",
       "[270 rows x 8 columns]"
      ]
     },
     "execution_count": 133,
     "metadata": {},
     "output_type": "execute_result"
    }
   ],
   "source": [
    "# TODO: 17 Display all records that have at least one Nan column value\n",
    "# If you cannot get this, you can leave this cell execution and proceed\n",
    "# Subsequent cells do not depend on this. If you cannot solve this, you can proceed to next cell\n",
    "\n",
    "nan_mask = X_train.isna().any(axis=1)\n",
    "X_train.loc[nan_mask, :]"
   ]
  },
  {
   "cell_type": "markdown",
   "id": "f47de1f8",
   "metadata": {},
   "source": [
    "##### Deciding on Imputation\n",
    "1. Now you should decide which imputation to use - whether SimpleImputer or IterativeImputer\n",
    "2. Instead of following MCAR/MAR path to decide on SimpleImputer or IterativeImputer, you will take a simple alternative\n",
    "3. Use IterativeImputer if a large number of rows have Nan for a column\n",
    "4. Use SimpleImputer if the number of Nans is very small "
   ]
  },
  {
   "cell_type": "code",
   "execution_count": 134,
   "id": "130c6f9c",
   "metadata": {},
   "outputs": [
    {
     "name": "stdout",
     "output_type": "stream",
     "text": [
      "X_train.shape=(558, 8)\n"
     ]
    },
    {
     "data": {
      "text/plain": [
       "Pregnancies                   0\n",
       "Glucose                       2\n",
       "BloodPressure                26\n",
       "SkinThickness               159\n",
       "Insulin                     267\n",
       "BMI                          10\n",
       "DiabetesPedigreeFunction      0\n",
       "Age                           0\n",
       "dtype: int64"
      ]
     },
     "execution_count": 134,
     "metadata": {},
     "output_type": "execute_result"
    }
   ],
   "source": [
    "print(f\"X_train.shape={X_train.shape}\")\n",
    "X_train.isna().sum()"
   ]
  },
  {
   "cell_type": "code",
   "execution_count": 135,
   "id": "ca0ec6b8",
   "metadata": {},
   "outputs": [
    {
     "data": {
      "text/html": [
       "<div>\n",
       "<style scoped>\n",
       "    .dataframe tbody tr th:only-of-type {\n",
       "        vertical-align: middle;\n",
       "    }\n",
       "\n",
       "    .dataframe tbody tr th {\n",
       "        vertical-align: top;\n",
       "    }\n",
       "\n",
       "    .dataframe thead th {\n",
       "        text-align: right;\n",
       "    }\n",
       "</style>\n",
       "<table border=\"1\" class=\"dataframe\">\n",
       "  <thead>\n",
       "    <tr style=\"text-align: right;\">\n",
       "      <th></th>\n",
       "      <th>Glucose</th>\n",
       "      <th>BloodPressure</th>\n",
       "      <th>BMI</th>\n",
       "    </tr>\n",
       "  </thead>\n",
       "  <tbody>\n",
       "    <tr>\n",
       "      <th>616</th>\n",
       "      <td>117.0</td>\n",
       "      <td>96.0</td>\n",
       "      <td>28.7</td>\n",
       "    </tr>\n",
       "    <tr>\n",
       "      <th>318</th>\n",
       "      <td>115.0</td>\n",
       "      <td>66.0</td>\n",
       "      <td>38.1</td>\n",
       "    </tr>\n",
       "    <tr>\n",
       "      <th>25</th>\n",
       "      <td>130.0</td>\n",
       "      <td>60.0</td>\n",
       "      <td>28.6</td>\n",
       "    </tr>\n",
       "    <tr>\n",
       "      <th>328</th>\n",
       "      <td>102.0</td>\n",
       "      <td>86.0</td>\n",
       "      <td>45.5</td>\n",
       "    </tr>\n",
       "    <tr>\n",
       "      <th>760</th>\n",
       "      <td>88.0</td>\n",
       "      <td>58.0</td>\n",
       "      <td>28.4</td>\n",
       "    </tr>\n",
       "    <tr>\n",
       "      <th>...</th>\n",
       "      <td>...</td>\n",
       "      <td>...</td>\n",
       "      <td>...</td>\n",
       "    </tr>\n",
       "    <tr>\n",
       "      <th>462</th>\n",
       "      <td>74.0</td>\n",
       "      <td>70.0</td>\n",
       "      <td>35.3</td>\n",
       "    </tr>\n",
       "    <tr>\n",
       "      <th>390</th>\n",
       "      <td>100.0</td>\n",
       "      <td>66.0</td>\n",
       "      <td>32.0</td>\n",
       "    </tr>\n",
       "    <tr>\n",
       "      <th>307</th>\n",
       "      <td>137.0</td>\n",
       "      <td>68.0</td>\n",
       "      <td>24.8</td>\n",
       "    </tr>\n",
       "    <tr>\n",
       "      <th>636</th>\n",
       "      <td>104.0</td>\n",
       "      <td>74.0</td>\n",
       "      <td>28.8</td>\n",
       "    </tr>\n",
       "    <tr>\n",
       "      <th>765</th>\n",
       "      <td>121.0</td>\n",
       "      <td>72.0</td>\n",
       "      <td>26.2</td>\n",
       "    </tr>\n",
       "  </tbody>\n",
       "</table>\n",
       "<p>558 rows × 3 columns</p>\n",
       "</div>"
      ],
      "text/plain": [
       "     Glucose  BloodPressure   BMI\n",
       "616    117.0           96.0  28.7\n",
       "318    115.0           66.0  38.1\n",
       "25     130.0           60.0  28.6\n",
       "328    102.0           86.0  45.5\n",
       "760     88.0           58.0  28.4\n",
       "..       ...            ...   ...\n",
       "462     74.0           70.0  35.3\n",
       "390    100.0           66.0  32.0\n",
       "307    137.0           68.0  24.8\n",
       "636    104.0           74.0  28.8\n",
       "765    121.0           72.0  26.2\n",
       "\n",
       "[558 rows x 3 columns]"
      ]
     },
     "execution_count": 135,
     "metadata": {},
     "output_type": "execute_result"
    }
   ],
   "source": [
    "# TODO 18 Based on the results of previous cell which columns will you apply SimpleImputer ?\n",
    "# Select only those columns here \n",
    "\n",
    "X_train_mean_impute = X_train.loc[:,['Glucose','BloodPressure','BMI']]\n",
    "X_train_mean_impute"
   ]
  },
  {
   "cell_type": "code",
   "execution_count": 136,
   "id": "28e10d44",
   "metadata": {},
   "outputs": [
    {
     "data": {
      "text/plain": [
       "array([[117. ,  96. ,  28.7],\n",
       "       [115. ,  66. ,  38.1],\n",
       "       [130. ,  60. ,  28.6],\n",
       "       [102. ,  86. ,  45.5],\n",
       "       [ 88. ,  58. ,  28.4]])"
      ]
     },
     "execution_count": 136,
     "metadata": {},
     "output_type": "execute_result"
    }
   ],
   "source": [
    "# TODO: 19 Apply SimpleImputer to appropriate columns only\n",
    "\n",
    "from sklearn.impute import SimpleImputer\n",
    "mean_imputer = SimpleImputer(strategy='mean')\n",
    "\n",
    "#Fill code above to create SimpleImputer \n",
    "\n",
    "X_train_mean_imputed = mean_imputer.fit_transform(X_train_mean_impute)\n",
    "\n",
    "# Display first few\n",
    "X_train_mean_imputed[0:5,:]"
   ]
  },
  {
   "cell_type": "code",
   "execution_count": 137,
   "id": "56fededd",
   "metadata": {},
   "outputs": [
    {
     "data": {
      "text/html": [
       "<div>\n",
       "<style scoped>\n",
       "    .dataframe tbody tr th:only-of-type {\n",
       "        vertical-align: middle;\n",
       "    }\n",
       "\n",
       "    .dataframe tbody tr th {\n",
       "        vertical-align: top;\n",
       "    }\n",
       "\n",
       "    .dataframe thead th {\n",
       "        text-align: right;\n",
       "    }\n",
       "</style>\n",
       "<table border=\"1\" class=\"dataframe\">\n",
       "  <thead>\n",
       "    <tr style=\"text-align: right;\">\n",
       "      <th></th>\n",
       "      <th>SkinThickness</th>\n",
       "      <th>Insulin</th>\n",
       "    </tr>\n",
       "  </thead>\n",
       "  <tbody>\n",
       "    <tr>\n",
       "      <th>616</th>\n",
       "      <td>NaN</td>\n",
       "      <td>NaN</td>\n",
       "    </tr>\n",
       "    <tr>\n",
       "      <th>318</th>\n",
       "      <td>39.0</td>\n",
       "      <td>140.0</td>\n",
       "    </tr>\n",
       "    <tr>\n",
       "      <th>25</th>\n",
       "      <td>23.0</td>\n",
       "      <td>170.0</td>\n",
       "    </tr>\n",
       "    <tr>\n",
       "      <th>328</th>\n",
       "      <td>36.0</td>\n",
       "      <td>120.0</td>\n",
       "    </tr>\n",
       "    <tr>\n",
       "      <th>760</th>\n",
       "      <td>26.0</td>\n",
       "      <td>16.0</td>\n",
       "    </tr>\n",
       "    <tr>\n",
       "      <th>...</th>\n",
       "      <td>...</td>\n",
       "      <td>...</td>\n",
       "    </tr>\n",
       "    <tr>\n",
       "      <th>462</th>\n",
       "      <td>40.0</td>\n",
       "      <td>49.0</td>\n",
       "    </tr>\n",
       "    <tr>\n",
       "      <th>390</th>\n",
       "      <td>29.0</td>\n",
       "      <td>196.0</td>\n",
       "    </tr>\n",
       "    <tr>\n",
       "      <th>307</th>\n",
       "      <td>14.0</td>\n",
       "      <td>148.0</td>\n",
       "    </tr>\n",
       "    <tr>\n",
       "      <th>636</th>\n",
       "      <td>NaN</td>\n",
       "      <td>NaN</td>\n",
       "    </tr>\n",
       "    <tr>\n",
       "      <th>765</th>\n",
       "      <td>23.0</td>\n",
       "      <td>112.0</td>\n",
       "    </tr>\n",
       "  </tbody>\n",
       "</table>\n",
       "<p>558 rows × 2 columns</p>\n",
       "</div>"
      ],
      "text/plain": [
       "     SkinThickness  Insulin\n",
       "616            NaN      NaN\n",
       "318           39.0    140.0\n",
       "25            23.0    170.0\n",
       "328           36.0    120.0\n",
       "760           26.0     16.0\n",
       "..             ...      ...\n",
       "462           40.0     49.0\n",
       "390           29.0    196.0\n",
       "307           14.0    148.0\n",
       "636            NaN      NaN\n",
       "765           23.0    112.0\n",
       "\n",
       "[558 rows x 2 columns]"
      ]
     },
     "execution_count": 137,
     "metadata": {},
     "output_type": "execute_result"
    }
   ],
   "source": [
    "# TODO: 20 Which columns will you apply IterativeImputer ?\n",
    "# Name those columns and provide 2 line short reason\n",
    "# Skinthickness and insulin columns are imputed using IterativeImputer as they have large number of nan values \n",
    "# or when there is a complex relationship between missing values across multiple columns.\n",
    "\n",
    "X_train.loc[:,['SkinThickness','Insulin']]"
   ]
  },
  {
   "cell_type": "markdown",
   "id": "995fb3c8",
   "metadata": {},
   "source": [
    "Iterative Imputer uses all non null features of the dataset to impute. To apply Iteratative Imputer on the two columns identified above, you should have all other features combined into the dataframe or numpy nmatrix first. \n",
    "\n",
    "You should do the following for that\n",
    "1. Remove the columns of the dataframe that were subjected to mean imputation\n",
    "2. Convert the remaining dataframe into numpy matrix \n",
    "3. Combine the above numpy matrix with mean imputed columns earlier. The \"combining\" two matrices is achieved by concatenating those two numpy matrices - by using an appropriate numpy stacking function\n",
    "4. The stacked numpy matrix is then used for iterative imputation"
   ]
  },
  {
   "cell_type": "code",
   "execution_count": 138,
   "id": "185a534d",
   "metadata": {},
   "outputs": [
    {
     "data": {
      "text/plain": [
       "array([[6.00e+00,      nan,      nan, 1.57e-01, 3.00e+01],\n",
       "       [3.00e+00, 3.90e+01, 1.40e+02, 1.50e-01, 2.80e+01],\n",
       "       [1.00e+00, 2.30e+01, 1.70e+02, 6.92e-01, 2.10e+01],\n",
       "       ...,\n",
       "       [0.00e+00, 1.40e+01, 1.48e+02, 1.43e-01, 2.10e+01],\n",
       "       [5.00e+00,      nan,      nan, 1.53e-01, 4.80e+01],\n",
       "       [5.00e+00, 2.30e+01, 1.12e+02, 2.45e-01, 3.00e+01]])"
      ]
     },
     "execution_count": 138,
     "metadata": {},
     "output_type": "execute_result"
    }
   ],
   "source": [
    "# TODO: 21 Remove the columns of X_train dataframe that were already subjected to mean imputation\n",
    "# Hold on to the rest as a Numpy matrix\n",
    "X_train_set_aside = X_train.drop(['Glucose','BloodPressure','BMI'], axis=1).to_numpy()\n",
    "X_train_set_aside"
   ]
  },
  {
   "cell_type": "code",
   "execution_count": 139,
   "id": "f8e48dc7",
   "metadata": {},
   "outputs": [
    {
     "data": {
      "text/plain": [
       "array([[1.17000000e+02, 9.60000000e+01, 2.87000000e+01, ...,\n",
       "        1.49392823e+02, 1.57000000e-01, 3.00000000e+01],\n",
       "       [1.15000000e+02, 6.60000000e+01, 3.81000000e+01, ...,\n",
       "        1.40000000e+02, 1.50000000e-01, 2.80000000e+01],\n",
       "       [1.30000000e+02, 6.00000000e+01, 2.86000000e+01, ...,\n",
       "        1.70000000e+02, 6.92000000e-01, 2.10000000e+01],\n",
       "       ...,\n",
       "       [1.37000000e+02, 6.80000000e+01, 2.48000000e+01, ...,\n",
       "        1.48000000e+02, 1.43000000e-01, 2.10000000e+01],\n",
       "       [1.04000000e+02, 7.40000000e+01, 2.88000000e+01, ...,\n",
       "        1.81687731e+02, 1.53000000e-01, 4.80000000e+01],\n",
       "       [1.21000000e+02, 7.20000000e+01, 2.62000000e+01, ...,\n",
       "        1.12000000e+02, 2.45000000e-01, 3.00000000e+01]])"
      ]
     },
     "execution_count": 139,
     "metadata": {},
     "output_type": "execute_result"
    }
   ],
   "source": [
    "# TODO: 22 Concatenate the two numpy matrices by using an appropriate numpy stacking function\n",
    "# Identify which are those two numpy matrices first and use them\n",
    "\n",
    "X_train = np.hstack([X_train_mean_imputed, X_train_iter_imputed]) # this numpy matrix will be the new X_train from prediction\n",
    "X_train"
   ]
  },
  {
   "cell_type": "code",
   "execution_count": 140,
   "id": "18a4ae6f",
   "metadata": {},
   "outputs": [
    {
     "data": {
      "text/plain": [
       "array([[6.00000000e+00, 2.91498069e+01, 1.49392823e+02, 1.57000000e-01,\n",
       "        3.00000000e+01],\n",
       "       [3.00000000e+00, 3.90000000e+01, 1.40000000e+02, 1.50000000e-01,\n",
       "        2.80000000e+01],\n",
       "       [1.00000000e+00, 2.30000000e+01, 1.70000000e+02, 6.92000000e-01,\n",
       "        2.10000000e+01],\n",
       "       ...,\n",
       "       [0.00000000e+00, 1.40000000e+01, 1.48000000e+02, 1.43000000e-01,\n",
       "        2.10000000e+01],\n",
       "       [5.00000000e+00, 3.10892705e+01, 1.81687731e+02, 1.53000000e-01,\n",
       "        4.80000000e+01],\n",
       "       [5.00000000e+00, 2.30000000e+01, 1.12000000e+02, 2.45000000e-01,\n",
       "        3.00000000e+01]])"
      ]
     },
     "execution_count": 140,
     "metadata": {},
     "output_type": "execute_result"
    }
   ],
   "source": [
    "# TODO: 23 Perform Iterative Imputation on two columns with Nan data\n",
    "# At this point only two columns will have Nan - SkinThickness and Insulin\n",
    "# Those 2 will be imputed using all other columns \n",
    "# But to make life easy, this is equivalent to performing Iterative Imputation using all other columns\n",
    "from sklearn.experimental import enable_iterative_imputer\n",
    "from sklearn.impute import IterativeImputer\n",
    "imputer = IterativeImputer(max_iter=10, random_state=0)\n",
    "imputer.fit(X_train_set_aside)\n",
    "\n",
    "# Transform the data to impute missing values\n",
    "X_train_iter_imputed = imputer.transform(X_train_set_aside)\n",
    "X_train_iter_imputed # this variable should hold your imputer values"
   ]
  },
  {
   "cell_type": "code",
   "execution_count": 141,
   "id": "83d54b3f",
   "metadata": {},
   "outputs": [
    {
     "data": {
      "text/plain": [
       "array([[-0.12039277,  2.00900571, -0.57304878, ..., -0.06431185,\n",
       "        -0.96883242, -0.2482146 ],\n",
       "       [-0.18563486, -0.52707996,  0.68698831, ..., -0.18007374,\n",
       "        -0.99082191, -0.42442801],\n",
       "       [ 0.3036808 , -1.03429709, -0.58645343, ...,  0.1896614 ,\n",
       "         0.71179295, -1.04117496],\n",
       "       ...,\n",
       "       [ 0.5320281 , -0.35800758, -1.09583013, ..., -0.08147771,\n",
       "        -1.0128114 , -1.04117496],\n",
       "       [-0.54446634,  0.14920955, -0.55964413, ...,  0.33370689,\n",
       "        -0.98139784,  1.33770614],\n",
       "       [ 0.0100914 , -0.01986283, -0.90816503, ..., -0.52515988,\n",
       "        -0.69239311, -0.2482146 ]])"
      ]
     },
     "execution_count": 141,
     "metadata": {},
     "output_type": "execute_result"
    }
   ],
   "source": [
    "# TODO: 24 Fill the question marks to do z transform\n",
    "\n",
    "from sklearn.preprocessing import StandardScaler\n",
    "\n",
    "scaler = StandardScaler()\n",
    "X_train_scaled = scaler.fit_transform(X_train)\n",
    "X_train_scaled"
   ]
  },
  {
   "cell_type": "code",
   "execution_count": 142,
   "id": "35dafbf6",
   "metadata": {},
   "outputs": [
    {
     "data": {
      "text/html": [
       "<style>#sk-container-id-3 {color: black;}#sk-container-id-3 pre{padding: 0;}#sk-container-id-3 div.sk-toggleable {background-color: white;}#sk-container-id-3 label.sk-toggleable__label {cursor: pointer;display: block;width: 100%;margin-bottom: 0;padding: 0.3em;box-sizing: border-box;text-align: center;}#sk-container-id-3 label.sk-toggleable__label-arrow:before {content: \"▸\";float: left;margin-right: 0.25em;color: #696969;}#sk-container-id-3 label.sk-toggleable__label-arrow:hover:before {color: black;}#sk-container-id-3 div.sk-estimator:hover label.sk-toggleable__label-arrow:before {color: black;}#sk-container-id-3 div.sk-toggleable__content {max-height: 0;max-width: 0;overflow: hidden;text-align: left;background-color: #f0f8ff;}#sk-container-id-3 div.sk-toggleable__content pre {margin: 0.2em;color: black;border-radius: 0.25em;background-color: #f0f8ff;}#sk-container-id-3 input.sk-toggleable__control:checked~div.sk-toggleable__content {max-height: 200px;max-width: 100%;overflow: auto;}#sk-container-id-3 input.sk-toggleable__control:checked~label.sk-toggleable__label-arrow:before {content: \"▾\";}#sk-container-id-3 div.sk-estimator input.sk-toggleable__control:checked~label.sk-toggleable__label {background-color: #d4ebff;}#sk-container-id-3 div.sk-label input.sk-toggleable__control:checked~label.sk-toggleable__label {background-color: #d4ebff;}#sk-container-id-3 input.sk-hidden--visually {border: 0;clip: rect(1px 1px 1px 1px);clip: rect(1px, 1px, 1px, 1px);height: 1px;margin: -1px;overflow: hidden;padding: 0;position: absolute;width: 1px;}#sk-container-id-3 div.sk-estimator {font-family: monospace;background-color: #f0f8ff;border: 1px dotted black;border-radius: 0.25em;box-sizing: border-box;margin-bottom: 0.5em;}#sk-container-id-3 div.sk-estimator:hover {background-color: #d4ebff;}#sk-container-id-3 div.sk-parallel-item::after {content: \"\";width: 100%;border-bottom: 1px solid gray;flex-grow: 1;}#sk-container-id-3 div.sk-label:hover label.sk-toggleable__label {background-color: #d4ebff;}#sk-container-id-3 div.sk-serial::before {content: \"\";position: absolute;border-left: 1px solid gray;box-sizing: border-box;top: 0;bottom: 0;left: 50%;z-index: 0;}#sk-container-id-3 div.sk-serial {display: flex;flex-direction: column;align-items: center;background-color: white;padding-right: 0.2em;padding-left: 0.2em;position: relative;}#sk-container-id-3 div.sk-item {position: relative;z-index: 1;}#sk-container-id-3 div.sk-parallel {display: flex;align-items: stretch;justify-content: center;background-color: white;position: relative;}#sk-container-id-3 div.sk-item::before, #sk-container-id-3 div.sk-parallel-item::before {content: \"\";position: absolute;border-left: 1px solid gray;box-sizing: border-box;top: 0;bottom: 0;left: 50%;z-index: -1;}#sk-container-id-3 div.sk-parallel-item {display: flex;flex-direction: column;z-index: 1;position: relative;background-color: white;}#sk-container-id-3 div.sk-parallel-item:first-child::after {align-self: flex-end;width: 50%;}#sk-container-id-3 div.sk-parallel-item:last-child::after {align-self: flex-start;width: 50%;}#sk-container-id-3 div.sk-parallel-item:only-child::after {width: 0;}#sk-container-id-3 div.sk-dashed-wrapped {border: 1px dashed gray;margin: 0 0.4em 0.5em 0.4em;box-sizing: border-box;padding-bottom: 0.4em;background-color: white;}#sk-container-id-3 div.sk-label label {font-family: monospace;font-weight: bold;display: inline-block;line-height: 1.2em;}#sk-container-id-3 div.sk-label-container {text-align: center;}#sk-container-id-3 div.sk-container {/* jupyter's `normalize.less` sets `[hidden] { display: none; }` but bootstrap.min.css set `[hidden] { display: none !important; }` so we also need the `!important` here to be able to override the default hidden behavior on the sphinx rendered scikit-learn.org. See: https://github.com/scikit-learn/scikit-learn/issues/21755 */display: inline-block !important;position: relative;}#sk-container-id-3 div.sk-text-repr-fallback {display: none;}</style><div id=\"sk-container-id-3\" class=\"sk-top-container\"><div class=\"sk-text-repr-fallback\"><pre>KNeighborsClassifier()</pre><b>In a Jupyter environment, please rerun this cell to show the HTML representation or trust the notebook. <br />On GitHub, the HTML representation is unable to render, please try loading this page with nbviewer.org.</b></div><div class=\"sk-container\" hidden><div class=\"sk-item\"><div class=\"sk-estimator sk-toggleable\"><input class=\"sk-toggleable__control sk-hidden--visually\" id=\"sk-estimator-id-3\" type=\"checkbox\" checked><label for=\"sk-estimator-id-3\" class=\"sk-toggleable__label sk-toggleable__label-arrow\">KNeighborsClassifier</label><div class=\"sk-toggleable__content\"><pre>KNeighborsClassifier()</pre></div></div></div></div></div>"
      ],
      "text/plain": [
       "KNeighborsClassifier()"
      ]
     },
     "execution_count": 142,
     "metadata": {},
     "output_type": "execute_result"
    }
   ],
   "source": [
    "# TODO: 25 Train the KNN model in this cell\n",
    "\n",
    "from sklearn.neighbors import KNeighborsClassifier\n",
    "\n",
    "model = KNeighborsClassifier(n_neighbors=5)\n",
    "model.fit(X_train_scaled, y_train)"
   ]
  },
  {
   "cell_type": "code",
   "execution_count": 143,
   "id": "6f5a2f53",
   "metadata": {},
   "outputs": [
    {
     "name": "stdout",
     "output_type": "stream",
     "text": [
      "Pregnancies                  0\n",
      "Glucose                      3\n",
      "BloodPressure                8\n",
      "SkinThickness               56\n",
      "Insulin                     92\n",
      "BMI                          0\n",
      "DiabetesPedigreeFunction     0\n",
      "Age                          0\n",
      "dtype: int64\n"
     ]
    }
   ],
   "source": [
    "# TODO: 26  Perform all necessary transformation on X_test in this cell to prepare it for predict()\n",
    "# look at all the transformation logic that was performed on X_train and repeat it for X_test here\n",
    "# Put your code here. No template is provided for this section\n",
    "\n",
    "print(X_test.isna().sum())\n",
    "X_test_mean_impute = X_test.loc[:,['Glucose','BloodPressure']]\n",
    "X_test_mean_imputed = mean_imputer.fit_transform(X_test_mean_impute)\n",
    "X_test_set_aside = X_test.drop(['Glucose','BloodPressure'], axis=1).to_numpy()\n",
    "imputer.fit(X_test_set_aside)\n",
    "X_test_iter_imputed = imputer.transform(X_test_set_aside)\n",
    "X_test = np.hstack([X_test_mean_imputed, X_test_iter_imputed])\n",
    "X_test_scaled = scaler.fit_transform(X_test)"
   ]
  },
  {
   "cell_type": "code",
   "execution_count": 144,
   "id": "74b4ae6d",
   "metadata": {},
   "outputs": [
    {
     "data": {
      "text/plain": [
       "(558, 8)"
      ]
     },
     "execution_count": 144,
     "metadata": {},
     "output_type": "execute_result"
    }
   ],
   "source": [
    "X_train.shape"
   ]
  },
  {
   "cell_type": "code",
   "execution_count": 145,
   "id": "75b6160a",
   "metadata": {},
   "outputs": [
    {
     "data": {
      "text/plain": [
       "0.7311827956989247"
      ]
     },
     "execution_count": 145,
     "metadata": {},
     "output_type": "execute_result"
    }
   ],
   "source": [
    "# TODO: 27\n",
    "\n",
    "# Write code here to predict using the model and calculate & display the accuracy of your model \n",
    "# You should get an accuracy of around 75%\n",
    "\n",
    "from sklearn.metrics import accuracy_score\n",
    "\n",
    "# Do prediction using knn here\n",
    "y_pred = model.predict(X_test_scaled)\n",
    "\n",
    "accuracy_score(y_pred=y_pred, y_true=y_test)"
   ]
  },
  {
   "cell_type": "markdown",
   "id": "b8bad42d",
   "metadata": {},
   "source": [
    "# Part 2: Data processing and prediction using a pipeline"
   ]
  },
  {
   "cell_type": "code",
   "execution_count": 151,
   "id": "d179087c",
   "metadata": {},
   "outputs": [],
   "source": [
    "# TODO: 28 Repeat activities that need to be done outside pipeline\n",
    "# Reading csv, dropping duplicates & other steps that you might have performed - but need to be done outside the pipeline now  \n",
    "\n",
    "df = pd.read_csv('d2.csv')\n",
    "df.drop_duplicates(inplace=True)\n",
    "#Add other code for dropping duplicates etc"
   ]
  },
  {
   "cell_type": "code",
   "execution_count": 152,
   "id": "06c58185",
   "metadata": {},
   "outputs": [],
   "source": [
    "# TODO: 29 Split the data into X and y. Then do train test split here\n",
    "\n",
    "y = df.pop(\"Outcome\")\n",
    "X = df\n",
    "\n",
    "X_train, X_test, y_train, y_test = train_test_split(X, y, test_size=0.25, random_state=0,stratify=y)"
   ]
  },
  {
   "cell_type": "markdown",
   "id": "754a1451",
   "metadata": {},
   "source": [
    "Design a pipeline that looks like following:\n",
    "\n",
    "![Pipeline](https://onedrive.live.com/embed?resid=A5A4158EF1352FCB%211956&authkey=%21AAa4xv7U8X35D44&width=550)\n",
    "\n",
    "1. SimpleImputer performs mean imputation only on the relevant columns\n",
    "2. IdentityTransformer (whose code is given below) is a custom sklearn transformer that performs no operation on the input data. Input data is passed through as is \n",
    "3. The two are wrapped within a ColumnTransformer\n",
    "4. This is followed by sequential execution of IterativeImputer, StandaScaler and the KNN based clasifier"
   ]
  },
  {
   "cell_type": "code",
   "execution_count": 153,
   "id": "2193171f",
   "metadata": {},
   "outputs": [],
   "source": [
    "# This is a No-op transformer. Use this as is\n",
    "from sklearn.base import BaseEstimator, TransformerMixin\n",
    "\n",
    "class IdentityTransformer(BaseEstimator, TransformerMixin):\n",
    "    def __init__(self):\n",
    "        pass\n",
    "    \n",
    "    def fit(self, X, y=None):\n",
    "        return self\n",
    "    \n",
    "    def transform(self, X, y=None):\n",
    "        return X*1"
   ]
  },
  {
   "cell_type": "markdown",
   "id": "e10f98d8",
   "metadata": {},
   "source": [
    "Look at the columns of the dataframe and decide which ones need to go to SimpleImputer and which ones should go to IdentityTransformer "
   ]
  },
  {
   "cell_type": "code",
   "execution_count": 154,
   "id": "d87b1028",
   "metadata": {},
   "outputs": [
    {
     "data": {
      "text/plain": [
       "Index(['Pregnancies', 'Glucose', 'BloodPressure', 'SkinThickness', 'Insulin',\n",
       "       'BMI', 'DiabetesPedigreeFunction', 'Age'],\n",
       "      dtype='object')"
      ]
     },
     "execution_count": 154,
     "metadata": {},
     "output_type": "execute_result"
    }
   ],
   "source": [
    "df.columns"
   ]
  },
  {
   "cell_type": "code",
   "execution_count": 199,
   "id": "3ecccade",
   "metadata": {},
   "outputs": [
    {
     "data": {
      "text/plain": [
       "['Glucose', 'BloodPressure', 'BMI']"
      ]
     },
     "execution_count": 199,
     "metadata": {},
     "output_type": "execute_result"
    }
   ],
   "source": [
    "# TODO: 30 Select the columns for mean imputation\n",
    "# Do not type the names directly. Use indices\n",
    "mean_impute_cols = df.columns[[1,2,5]].to_list()\n",
    "mean_impute_cols"
   ]
  },
  {
   "cell_type": "code",
   "execution_count": 200,
   "id": "0813cbf4",
   "metadata": {},
   "outputs": [
    {
     "data": {
      "text/plain": [
       "array([False,  True,  True, False, False,  True, False, False])"
      ]
     },
     "execution_count": 200,
     "metadata": {},
     "output_type": "execute_result"
    }
   ],
   "source": [
    "mean_impute_col_mask = df.columns.isin(mean_impute_cols)\n",
    "mean_impute_col_mask"
   ]
  },
  {
   "cell_type": "code",
   "execution_count": 210,
   "id": "ec2d2990",
   "metadata": {},
   "outputs": [
    {
     "data": {
      "text/plain": [
       "['Pregnancies', 'SkinThickness', 'Insulin', 'DiabetesPedigreeFunction', 'Age']"
      ]
     },
     "execution_count": 210,
     "metadata": {},
     "output_type": "execute_result"
    }
   ],
   "source": [
    "# TODO: 31 Use the mean_impute_col_mask to select remaining columns from df.columns to be used with IdentityTransformer\n",
    "other_cols = df.columns[mean_impute_col_mask].to_list()\n",
    "other_cols = ['Pregnancies','SkinThickness','Insulin','DiabetesPedigreeFunction','Age']\n",
    "other_cols"
   ]
  },
  {
   "cell_type": "code",
   "execution_count": 219,
   "id": "10cb21af",
   "metadata": {},
   "outputs": [],
   "source": [
    "# TODO 32 Build the pipeline using the diagram shown earlier and the details provided along with it\n",
    " \n",
    "from sklearn.pipeline import Pipeline\n",
    "from sklearn.compose import ColumnTransformer\n",
    "\n",
    "\n",
    "\n",
    "preprocessing_pipeline = ColumnTransformer([\n",
    "    (\"simple_impute\", SimpleImputer(strategy=\"mean\"), mean_impute_cols),\n",
    "    (\"identity\", IdentityTransformer(), other_cols),\n",
    "])\n",
    "\n",
    "pipeline = Pipeline([\n",
    "    ('col_tx', preprocessing_pipeline),\n",
    "    ('iterativeimputer', IterativeImputer()),\n",
    "    ('standard_scaler', StandardScaler()),\n",
    "    ('knn', KNeighborsClassifier())\n",
    "])\n"
   ]
  },
  {
   "cell_type": "code",
   "execution_count": 220,
   "id": "c41ed129",
   "metadata": {},
   "outputs": [
    {
     "data": {
      "text/html": [
       "<style>#sk-container-id-16 {color: black;}#sk-container-id-16 pre{padding: 0;}#sk-container-id-16 div.sk-toggleable {background-color: white;}#sk-container-id-16 label.sk-toggleable__label {cursor: pointer;display: block;width: 100%;margin-bottom: 0;padding: 0.3em;box-sizing: border-box;text-align: center;}#sk-container-id-16 label.sk-toggleable__label-arrow:before {content: \"▸\";float: left;margin-right: 0.25em;color: #696969;}#sk-container-id-16 label.sk-toggleable__label-arrow:hover:before {color: black;}#sk-container-id-16 div.sk-estimator:hover label.sk-toggleable__label-arrow:before {color: black;}#sk-container-id-16 div.sk-toggleable__content {max-height: 0;max-width: 0;overflow: hidden;text-align: left;background-color: #f0f8ff;}#sk-container-id-16 div.sk-toggleable__content pre {margin: 0.2em;color: black;border-radius: 0.25em;background-color: #f0f8ff;}#sk-container-id-16 input.sk-toggleable__control:checked~div.sk-toggleable__content {max-height: 200px;max-width: 100%;overflow: auto;}#sk-container-id-16 input.sk-toggleable__control:checked~label.sk-toggleable__label-arrow:before {content: \"▾\";}#sk-container-id-16 div.sk-estimator input.sk-toggleable__control:checked~label.sk-toggleable__label {background-color: #d4ebff;}#sk-container-id-16 div.sk-label input.sk-toggleable__control:checked~label.sk-toggleable__label {background-color: #d4ebff;}#sk-container-id-16 input.sk-hidden--visually {border: 0;clip: rect(1px 1px 1px 1px);clip: rect(1px, 1px, 1px, 1px);height: 1px;margin: -1px;overflow: hidden;padding: 0;position: absolute;width: 1px;}#sk-container-id-16 div.sk-estimator {font-family: monospace;background-color: #f0f8ff;border: 1px dotted black;border-radius: 0.25em;box-sizing: border-box;margin-bottom: 0.5em;}#sk-container-id-16 div.sk-estimator:hover {background-color: #d4ebff;}#sk-container-id-16 div.sk-parallel-item::after {content: \"\";width: 100%;border-bottom: 1px solid gray;flex-grow: 1;}#sk-container-id-16 div.sk-label:hover label.sk-toggleable__label {background-color: #d4ebff;}#sk-container-id-16 div.sk-serial::before {content: \"\";position: absolute;border-left: 1px solid gray;box-sizing: border-box;top: 0;bottom: 0;left: 50%;z-index: 0;}#sk-container-id-16 div.sk-serial {display: flex;flex-direction: column;align-items: center;background-color: white;padding-right: 0.2em;padding-left: 0.2em;position: relative;}#sk-container-id-16 div.sk-item {position: relative;z-index: 1;}#sk-container-id-16 div.sk-parallel {display: flex;align-items: stretch;justify-content: center;background-color: white;position: relative;}#sk-container-id-16 div.sk-item::before, #sk-container-id-16 div.sk-parallel-item::before {content: \"\";position: absolute;border-left: 1px solid gray;box-sizing: border-box;top: 0;bottom: 0;left: 50%;z-index: -1;}#sk-container-id-16 div.sk-parallel-item {display: flex;flex-direction: column;z-index: 1;position: relative;background-color: white;}#sk-container-id-16 div.sk-parallel-item:first-child::after {align-self: flex-end;width: 50%;}#sk-container-id-16 div.sk-parallel-item:last-child::after {align-self: flex-start;width: 50%;}#sk-container-id-16 div.sk-parallel-item:only-child::after {width: 0;}#sk-container-id-16 div.sk-dashed-wrapped {border: 1px dashed gray;margin: 0 0.4em 0.5em 0.4em;box-sizing: border-box;padding-bottom: 0.4em;background-color: white;}#sk-container-id-16 div.sk-label label {font-family: monospace;font-weight: bold;display: inline-block;line-height: 1.2em;}#sk-container-id-16 div.sk-label-container {text-align: center;}#sk-container-id-16 div.sk-container {/* jupyter's `normalize.less` sets `[hidden] { display: none; }` but bootstrap.min.css set `[hidden] { display: none !important; }` so we also need the `!important` here to be able to override the default hidden behavior on the sphinx rendered scikit-learn.org. See: https://github.com/scikit-learn/scikit-learn/issues/21755 */display: inline-block !important;position: relative;}#sk-container-id-16 div.sk-text-repr-fallback {display: none;}</style><div id=\"sk-container-id-16\" class=\"sk-top-container\"><div class=\"sk-text-repr-fallback\"><pre>Pipeline(steps=[(&#x27;col_tx&#x27;,\n",
       "                 ColumnTransformer(transformers=[(&#x27;simple_impute&#x27;,\n",
       "                                                  SimpleImputer(),\n",
       "                                                  [&#x27;Glucose&#x27;, &#x27;BloodPressure&#x27;,\n",
       "                                                   &#x27;BMI&#x27;]),\n",
       "                                                 (&#x27;identity&#x27;,\n",
       "                                                  IdentityTransformer(),\n",
       "                                                  [&#x27;Pregnancies&#x27;,\n",
       "                                                   &#x27;SkinThickness&#x27;, &#x27;Insulin&#x27;,\n",
       "                                                   &#x27;DiabetesPedigreeFunction&#x27;,\n",
       "                                                   &#x27;Age&#x27;])])),\n",
       "                (&#x27;iterativeimputer&#x27;, IterativeImputer()),\n",
       "                (&#x27;standard_scaler&#x27;, StandardScaler()),\n",
       "                (&#x27;knn&#x27;, KNeighborsClassifier())])</pre><b>In a Jupyter environment, please rerun this cell to show the HTML representation or trust the notebook. <br />On GitHub, the HTML representation is unable to render, please try loading this page with nbviewer.org.</b></div><div class=\"sk-container\" hidden><div class=\"sk-item sk-dashed-wrapped\"><div class=\"sk-label-container\"><div class=\"sk-label sk-toggleable\"><input class=\"sk-toggleable__control sk-hidden--visually\" id=\"sk-estimator-id-100\" type=\"checkbox\" ><label for=\"sk-estimator-id-100\" class=\"sk-toggleable__label sk-toggleable__label-arrow\">Pipeline</label><div class=\"sk-toggleable__content\"><pre>Pipeline(steps=[(&#x27;col_tx&#x27;,\n",
       "                 ColumnTransformer(transformers=[(&#x27;simple_impute&#x27;,\n",
       "                                                  SimpleImputer(),\n",
       "                                                  [&#x27;Glucose&#x27;, &#x27;BloodPressure&#x27;,\n",
       "                                                   &#x27;BMI&#x27;]),\n",
       "                                                 (&#x27;identity&#x27;,\n",
       "                                                  IdentityTransformer(),\n",
       "                                                  [&#x27;Pregnancies&#x27;,\n",
       "                                                   &#x27;SkinThickness&#x27;, &#x27;Insulin&#x27;,\n",
       "                                                   &#x27;DiabetesPedigreeFunction&#x27;,\n",
       "                                                   &#x27;Age&#x27;])])),\n",
       "                (&#x27;iterativeimputer&#x27;, IterativeImputer()),\n",
       "                (&#x27;standard_scaler&#x27;, StandardScaler()),\n",
       "                (&#x27;knn&#x27;, KNeighborsClassifier())])</pre></div></div></div><div class=\"sk-serial\"><div class=\"sk-item sk-dashed-wrapped\"><div class=\"sk-label-container\"><div class=\"sk-label sk-toggleable\"><input class=\"sk-toggleable__control sk-hidden--visually\" id=\"sk-estimator-id-101\" type=\"checkbox\" ><label for=\"sk-estimator-id-101\" class=\"sk-toggleable__label sk-toggleable__label-arrow\">col_tx: ColumnTransformer</label><div class=\"sk-toggleable__content\"><pre>ColumnTransformer(transformers=[(&#x27;simple_impute&#x27;, SimpleImputer(),\n",
       "                                 [&#x27;Glucose&#x27;, &#x27;BloodPressure&#x27;, &#x27;BMI&#x27;]),\n",
       "                                (&#x27;identity&#x27;, IdentityTransformer(),\n",
       "                                 [&#x27;Pregnancies&#x27;, &#x27;SkinThickness&#x27;, &#x27;Insulin&#x27;,\n",
       "                                  &#x27;DiabetesPedigreeFunction&#x27;, &#x27;Age&#x27;])])</pre></div></div></div><div class=\"sk-parallel\"><div class=\"sk-parallel-item\"><div class=\"sk-item\"><div class=\"sk-label-container\"><div class=\"sk-label sk-toggleable\"><input class=\"sk-toggleable__control sk-hidden--visually\" id=\"sk-estimator-id-102\" type=\"checkbox\" ><label for=\"sk-estimator-id-102\" class=\"sk-toggleable__label sk-toggleable__label-arrow\">simple_impute</label><div class=\"sk-toggleable__content\"><pre>[&#x27;Glucose&#x27;, &#x27;BloodPressure&#x27;, &#x27;BMI&#x27;]</pre></div></div></div><div class=\"sk-serial\"><div class=\"sk-item\"><div class=\"sk-estimator sk-toggleable\"><input class=\"sk-toggleable__control sk-hidden--visually\" id=\"sk-estimator-id-103\" type=\"checkbox\" ><label for=\"sk-estimator-id-103\" class=\"sk-toggleable__label sk-toggleable__label-arrow\">SimpleImputer</label><div class=\"sk-toggleable__content\"><pre>SimpleImputer()</pre></div></div></div></div></div></div><div class=\"sk-parallel-item\"><div class=\"sk-item\"><div class=\"sk-label-container\"><div class=\"sk-label sk-toggleable\"><input class=\"sk-toggleable__control sk-hidden--visually\" id=\"sk-estimator-id-104\" type=\"checkbox\" ><label for=\"sk-estimator-id-104\" class=\"sk-toggleable__label sk-toggleable__label-arrow\">identity</label><div class=\"sk-toggleable__content\"><pre>[&#x27;Pregnancies&#x27;, &#x27;SkinThickness&#x27;, &#x27;Insulin&#x27;, &#x27;DiabetesPedigreeFunction&#x27;, &#x27;Age&#x27;]</pre></div></div></div><div class=\"sk-serial\"><div class=\"sk-item\"><div class=\"sk-estimator sk-toggleable\"><input class=\"sk-toggleable__control sk-hidden--visually\" id=\"sk-estimator-id-105\" type=\"checkbox\" ><label for=\"sk-estimator-id-105\" class=\"sk-toggleable__label sk-toggleable__label-arrow\">IdentityTransformer</label><div class=\"sk-toggleable__content\"><pre>IdentityTransformer()</pre></div></div></div></div></div></div></div></div><div class=\"sk-item\"><div class=\"sk-estimator sk-toggleable\"><input class=\"sk-toggleable__control sk-hidden--visually\" id=\"sk-estimator-id-106\" type=\"checkbox\" ><label for=\"sk-estimator-id-106\" class=\"sk-toggleable__label sk-toggleable__label-arrow\">IterativeImputer</label><div class=\"sk-toggleable__content\"><pre>IterativeImputer()</pre></div></div></div><div class=\"sk-item\"><div class=\"sk-estimator sk-toggleable\"><input class=\"sk-toggleable__control sk-hidden--visually\" id=\"sk-estimator-id-107\" type=\"checkbox\" ><label for=\"sk-estimator-id-107\" class=\"sk-toggleable__label sk-toggleable__label-arrow\">StandardScaler</label><div class=\"sk-toggleable__content\"><pre>StandardScaler()</pre></div></div></div><div class=\"sk-item\"><div class=\"sk-estimator sk-toggleable\"><input class=\"sk-toggleable__control sk-hidden--visually\" id=\"sk-estimator-id-108\" type=\"checkbox\" ><label for=\"sk-estimator-id-108\" class=\"sk-toggleable__label sk-toggleable__label-arrow\">KNeighborsClassifier</label><div class=\"sk-toggleable__content\"><pre>KNeighborsClassifier()</pre></div></div></div></div></div></div></div>"
      ],
      "text/plain": [
       "Pipeline(steps=[('col_tx',\n",
       "                 ColumnTransformer(transformers=[('simple_impute',\n",
       "                                                  SimpleImputer(),\n",
       "                                                  ['Glucose', 'BloodPressure',\n",
       "                                                   'BMI']),\n",
       "                                                 ('identity',\n",
       "                                                  IdentityTransformer(),\n",
       "                                                  ['Pregnancies',\n",
       "                                                   'SkinThickness', 'Insulin',\n",
       "                                                   'DiabetesPedigreeFunction',\n",
       "                                                   'Age'])])),\n",
       "                ('iterativeimputer', IterativeImputer()),\n",
       "                ('standard_scaler', StandardScaler()),\n",
       "                ('knn', KNeighborsClassifier())])"
      ]
     },
     "execution_count": 220,
     "metadata": {},
     "output_type": "execute_result"
    }
   ],
   "source": [
    "# TODO: 33 Run this cell to verify if indeed your pipeline looks like what was expected\n",
    "\n",
    "from sklearn import set_config\n",
    "set_config(display='diagram')\n",
    "pipeline  # Put your pipeline variable name here to display pipeline as diagram"
   ]
  },
  {
   "cell_type": "code",
   "execution_count": 221,
   "id": "8742fe51",
   "metadata": {},
   "outputs": [
    {
     "data": {
      "text/html": [
       "<style>#sk-container-id-17 {color: black;}#sk-container-id-17 pre{padding: 0;}#sk-container-id-17 div.sk-toggleable {background-color: white;}#sk-container-id-17 label.sk-toggleable__label {cursor: pointer;display: block;width: 100%;margin-bottom: 0;padding: 0.3em;box-sizing: border-box;text-align: center;}#sk-container-id-17 label.sk-toggleable__label-arrow:before {content: \"▸\";float: left;margin-right: 0.25em;color: #696969;}#sk-container-id-17 label.sk-toggleable__label-arrow:hover:before {color: black;}#sk-container-id-17 div.sk-estimator:hover label.sk-toggleable__label-arrow:before {color: black;}#sk-container-id-17 div.sk-toggleable__content {max-height: 0;max-width: 0;overflow: hidden;text-align: left;background-color: #f0f8ff;}#sk-container-id-17 div.sk-toggleable__content pre {margin: 0.2em;color: black;border-radius: 0.25em;background-color: #f0f8ff;}#sk-container-id-17 input.sk-toggleable__control:checked~div.sk-toggleable__content {max-height: 200px;max-width: 100%;overflow: auto;}#sk-container-id-17 input.sk-toggleable__control:checked~label.sk-toggleable__label-arrow:before {content: \"▾\";}#sk-container-id-17 div.sk-estimator input.sk-toggleable__control:checked~label.sk-toggleable__label {background-color: #d4ebff;}#sk-container-id-17 div.sk-label input.sk-toggleable__control:checked~label.sk-toggleable__label {background-color: #d4ebff;}#sk-container-id-17 input.sk-hidden--visually {border: 0;clip: rect(1px 1px 1px 1px);clip: rect(1px, 1px, 1px, 1px);height: 1px;margin: -1px;overflow: hidden;padding: 0;position: absolute;width: 1px;}#sk-container-id-17 div.sk-estimator {font-family: monospace;background-color: #f0f8ff;border: 1px dotted black;border-radius: 0.25em;box-sizing: border-box;margin-bottom: 0.5em;}#sk-container-id-17 div.sk-estimator:hover {background-color: #d4ebff;}#sk-container-id-17 div.sk-parallel-item::after {content: \"\";width: 100%;border-bottom: 1px solid gray;flex-grow: 1;}#sk-container-id-17 div.sk-label:hover label.sk-toggleable__label {background-color: #d4ebff;}#sk-container-id-17 div.sk-serial::before {content: \"\";position: absolute;border-left: 1px solid gray;box-sizing: border-box;top: 0;bottom: 0;left: 50%;z-index: 0;}#sk-container-id-17 div.sk-serial {display: flex;flex-direction: column;align-items: center;background-color: white;padding-right: 0.2em;padding-left: 0.2em;position: relative;}#sk-container-id-17 div.sk-item {position: relative;z-index: 1;}#sk-container-id-17 div.sk-parallel {display: flex;align-items: stretch;justify-content: center;background-color: white;position: relative;}#sk-container-id-17 div.sk-item::before, #sk-container-id-17 div.sk-parallel-item::before {content: \"\";position: absolute;border-left: 1px solid gray;box-sizing: border-box;top: 0;bottom: 0;left: 50%;z-index: -1;}#sk-container-id-17 div.sk-parallel-item {display: flex;flex-direction: column;z-index: 1;position: relative;background-color: white;}#sk-container-id-17 div.sk-parallel-item:first-child::after {align-self: flex-end;width: 50%;}#sk-container-id-17 div.sk-parallel-item:last-child::after {align-self: flex-start;width: 50%;}#sk-container-id-17 div.sk-parallel-item:only-child::after {width: 0;}#sk-container-id-17 div.sk-dashed-wrapped {border: 1px dashed gray;margin: 0 0.4em 0.5em 0.4em;box-sizing: border-box;padding-bottom: 0.4em;background-color: white;}#sk-container-id-17 div.sk-label label {font-family: monospace;font-weight: bold;display: inline-block;line-height: 1.2em;}#sk-container-id-17 div.sk-label-container {text-align: center;}#sk-container-id-17 div.sk-container {/* jupyter's `normalize.less` sets `[hidden] { display: none; }` but bootstrap.min.css set `[hidden] { display: none !important; }` so we also need the `!important` here to be able to override the default hidden behavior on the sphinx rendered scikit-learn.org. See: https://github.com/scikit-learn/scikit-learn/issues/21755 */display: inline-block !important;position: relative;}#sk-container-id-17 div.sk-text-repr-fallback {display: none;}</style><div id=\"sk-container-id-17\" class=\"sk-top-container\"><div class=\"sk-text-repr-fallback\"><pre>Pipeline(steps=[(&#x27;col_tx&#x27;,\n",
       "                 ColumnTransformer(transformers=[(&#x27;simple_impute&#x27;,\n",
       "                                                  SimpleImputer(),\n",
       "                                                  [&#x27;Glucose&#x27;, &#x27;BloodPressure&#x27;,\n",
       "                                                   &#x27;BMI&#x27;]),\n",
       "                                                 (&#x27;identity&#x27;,\n",
       "                                                  IdentityTransformer(),\n",
       "                                                  [&#x27;Pregnancies&#x27;,\n",
       "                                                   &#x27;SkinThickness&#x27;, &#x27;Insulin&#x27;,\n",
       "                                                   &#x27;DiabetesPedigreeFunction&#x27;,\n",
       "                                                   &#x27;Age&#x27;])])),\n",
       "                (&#x27;iterativeimputer&#x27;, IterativeImputer()),\n",
       "                (&#x27;standard_scaler&#x27;, StandardScaler()),\n",
       "                (&#x27;knn&#x27;, KNeighborsClassifier())])</pre><b>In a Jupyter environment, please rerun this cell to show the HTML representation or trust the notebook. <br />On GitHub, the HTML representation is unable to render, please try loading this page with nbviewer.org.</b></div><div class=\"sk-container\" hidden><div class=\"sk-item sk-dashed-wrapped\"><div class=\"sk-label-container\"><div class=\"sk-label sk-toggleable\"><input class=\"sk-toggleable__control sk-hidden--visually\" id=\"sk-estimator-id-109\" type=\"checkbox\" ><label for=\"sk-estimator-id-109\" class=\"sk-toggleable__label sk-toggleable__label-arrow\">Pipeline</label><div class=\"sk-toggleable__content\"><pre>Pipeline(steps=[(&#x27;col_tx&#x27;,\n",
       "                 ColumnTransformer(transformers=[(&#x27;simple_impute&#x27;,\n",
       "                                                  SimpleImputer(),\n",
       "                                                  [&#x27;Glucose&#x27;, &#x27;BloodPressure&#x27;,\n",
       "                                                   &#x27;BMI&#x27;]),\n",
       "                                                 (&#x27;identity&#x27;,\n",
       "                                                  IdentityTransformer(),\n",
       "                                                  [&#x27;Pregnancies&#x27;,\n",
       "                                                   &#x27;SkinThickness&#x27;, &#x27;Insulin&#x27;,\n",
       "                                                   &#x27;DiabetesPedigreeFunction&#x27;,\n",
       "                                                   &#x27;Age&#x27;])])),\n",
       "                (&#x27;iterativeimputer&#x27;, IterativeImputer()),\n",
       "                (&#x27;standard_scaler&#x27;, StandardScaler()),\n",
       "                (&#x27;knn&#x27;, KNeighborsClassifier())])</pre></div></div></div><div class=\"sk-serial\"><div class=\"sk-item sk-dashed-wrapped\"><div class=\"sk-label-container\"><div class=\"sk-label sk-toggleable\"><input class=\"sk-toggleable__control sk-hidden--visually\" id=\"sk-estimator-id-110\" type=\"checkbox\" ><label for=\"sk-estimator-id-110\" class=\"sk-toggleable__label sk-toggleable__label-arrow\">col_tx: ColumnTransformer</label><div class=\"sk-toggleable__content\"><pre>ColumnTransformer(transformers=[(&#x27;simple_impute&#x27;, SimpleImputer(),\n",
       "                                 [&#x27;Glucose&#x27;, &#x27;BloodPressure&#x27;, &#x27;BMI&#x27;]),\n",
       "                                (&#x27;identity&#x27;, IdentityTransformer(),\n",
       "                                 [&#x27;Pregnancies&#x27;, &#x27;SkinThickness&#x27;, &#x27;Insulin&#x27;,\n",
       "                                  &#x27;DiabetesPedigreeFunction&#x27;, &#x27;Age&#x27;])])</pre></div></div></div><div class=\"sk-parallel\"><div class=\"sk-parallel-item\"><div class=\"sk-item\"><div class=\"sk-label-container\"><div class=\"sk-label sk-toggleable\"><input class=\"sk-toggleable__control sk-hidden--visually\" id=\"sk-estimator-id-111\" type=\"checkbox\" ><label for=\"sk-estimator-id-111\" class=\"sk-toggleable__label sk-toggleable__label-arrow\">simple_impute</label><div class=\"sk-toggleable__content\"><pre>[&#x27;Glucose&#x27;, &#x27;BloodPressure&#x27;, &#x27;BMI&#x27;]</pre></div></div></div><div class=\"sk-serial\"><div class=\"sk-item\"><div class=\"sk-estimator sk-toggleable\"><input class=\"sk-toggleable__control sk-hidden--visually\" id=\"sk-estimator-id-112\" type=\"checkbox\" ><label for=\"sk-estimator-id-112\" class=\"sk-toggleable__label sk-toggleable__label-arrow\">SimpleImputer</label><div class=\"sk-toggleable__content\"><pre>SimpleImputer()</pre></div></div></div></div></div></div><div class=\"sk-parallel-item\"><div class=\"sk-item\"><div class=\"sk-label-container\"><div class=\"sk-label sk-toggleable\"><input class=\"sk-toggleable__control sk-hidden--visually\" id=\"sk-estimator-id-113\" type=\"checkbox\" ><label for=\"sk-estimator-id-113\" class=\"sk-toggleable__label sk-toggleable__label-arrow\">identity</label><div class=\"sk-toggleable__content\"><pre>[&#x27;Pregnancies&#x27;, &#x27;SkinThickness&#x27;, &#x27;Insulin&#x27;, &#x27;DiabetesPedigreeFunction&#x27;, &#x27;Age&#x27;]</pre></div></div></div><div class=\"sk-serial\"><div class=\"sk-item\"><div class=\"sk-estimator sk-toggleable\"><input class=\"sk-toggleable__control sk-hidden--visually\" id=\"sk-estimator-id-114\" type=\"checkbox\" ><label for=\"sk-estimator-id-114\" class=\"sk-toggleable__label sk-toggleable__label-arrow\">IdentityTransformer</label><div class=\"sk-toggleable__content\"><pre>IdentityTransformer()</pre></div></div></div></div></div></div></div></div><div class=\"sk-item\"><div class=\"sk-estimator sk-toggleable\"><input class=\"sk-toggleable__control sk-hidden--visually\" id=\"sk-estimator-id-115\" type=\"checkbox\" ><label for=\"sk-estimator-id-115\" class=\"sk-toggleable__label sk-toggleable__label-arrow\">IterativeImputer</label><div class=\"sk-toggleable__content\"><pre>IterativeImputer()</pre></div></div></div><div class=\"sk-item\"><div class=\"sk-estimator sk-toggleable\"><input class=\"sk-toggleable__control sk-hidden--visually\" id=\"sk-estimator-id-116\" type=\"checkbox\" ><label for=\"sk-estimator-id-116\" class=\"sk-toggleable__label sk-toggleable__label-arrow\">StandardScaler</label><div class=\"sk-toggleable__content\"><pre>StandardScaler()</pre></div></div></div><div class=\"sk-item\"><div class=\"sk-estimator sk-toggleable\"><input class=\"sk-toggleable__control sk-hidden--visually\" id=\"sk-estimator-id-117\" type=\"checkbox\" ><label for=\"sk-estimator-id-117\" class=\"sk-toggleable__label sk-toggleable__label-arrow\">KNeighborsClassifier</label><div class=\"sk-toggleable__content\"><pre>KNeighborsClassifier()</pre></div></div></div></div></div></div></div>"
      ],
      "text/plain": [
       "Pipeline(steps=[('col_tx',\n",
       "                 ColumnTransformer(transformers=[('simple_impute',\n",
       "                                                  SimpleImputer(),\n",
       "                                                  ['Glucose', 'BloodPressure',\n",
       "                                                   'BMI']),\n",
       "                                                 ('identity',\n",
       "                                                  IdentityTransformer(),\n",
       "                                                  ['Pregnancies',\n",
       "                                                   'SkinThickness', 'Insulin',\n",
       "                                                   'DiabetesPedigreeFunction',\n",
       "                                                   'Age'])])),\n",
       "                ('iterativeimputer', IterativeImputer()),\n",
       "                ('standard_scaler', StandardScaler()),\n",
       "                ('knn', KNeighborsClassifier())])"
      ]
     },
     "execution_count": 221,
     "metadata": {},
     "output_type": "execute_result"
    }
   ],
   "source": [
    "# TODO: 34 Train pipeline with data\n",
    "pipeline.fit(X_train, y_train)\n"
   ]
  },
  {
   "cell_type": "code",
   "execution_count": 222,
   "id": "cc3033d3",
   "metadata": {},
   "outputs": [
    {
     "data": {
      "text/plain": [
       "0.6774193548387096"
      ]
     },
     "execution_count": 222,
     "metadata": {},
     "output_type": "execute_result"
    }
   ],
   "source": [
    "# TODO: 35 Do predictions with pipeline and calculate the accuracy score  \n",
    "pipeline.score(X_test, y_test)"
   ]
  },
  {
   "cell_type": "markdown",
   "id": "67f0a19b",
   "metadata": {},
   "source": [
    "# Part 3: Combine pipeline & gridsearch for hyperparam tuning"
   ]
  },
  {
   "cell_type": "code",
   "execution_count": 224,
   "id": "caad3a00",
   "metadata": {},
   "outputs": [
    {
     "name": "stdout",
     "output_type": "stream",
     "text": [
      "Fitting 5 folds for each of 20 candidates, totalling 100 fits\n",
      "[CV] END knn__metric=euclidean, knn__n_neighbors=2, knn__weights=uniform; total time=   0.0s\n",
      "[CV] END knn__metric=euclidean, knn__n_neighbors=2, knn__weights=uniform; total time=   0.0s\n",
      "[CV] END knn__metric=euclidean, knn__n_neighbors=2, knn__weights=uniform; total time=   0.0s\n",
      "[CV] END knn__metric=euclidean, knn__n_neighbors=2, knn__weights=uniform; total time=   0.0s\n",
      "[CV] END knn__metric=euclidean, knn__n_neighbors=2, knn__weights=uniform; total time=   0.0s\n",
      "[CV] END knn__metric=euclidean, knn__n_neighbors=2, knn__weights=distance; total time=   0.0s\n",
      "[CV] END knn__metric=euclidean, knn__n_neighbors=2, knn__weights=distance; total time=   0.0s\n",
      "[CV] END knn__metric=euclidean, knn__n_neighbors=2, knn__weights=distance; total time=   0.0s\n",
      "[CV] END knn__metric=euclidean, knn__n_neighbors=2, knn__weights=distance; total time=   0.0s\n",
      "[CV] END knn__metric=euclidean, knn__n_neighbors=2, knn__weights=distance; total time=   0.0s\n",
      "[CV] END knn__metric=euclidean, knn__n_neighbors=3, knn__weights=uniform; total time=   0.0s\n",
      "[CV] END knn__metric=euclidean, knn__n_neighbors=3, knn__weights=uniform; total time=   0.0s\n",
      "[CV] END knn__metric=euclidean, knn__n_neighbors=3, knn__weights=uniform; total time=   0.0s\n",
      "[CV] END knn__metric=euclidean, knn__n_neighbors=3, knn__weights=uniform; total time=   0.0s\n",
      "[CV] END knn__metric=euclidean, knn__n_neighbors=3, knn__weights=uniform; total time=   0.0s\n",
      "[CV] END knn__metric=euclidean, knn__n_neighbors=3, knn__weights=distance; total time=   0.0s\n",
      "[CV] END knn__metric=euclidean, knn__n_neighbors=3, knn__weights=distance; total time=   0.0s\n",
      "[CV] END knn__metric=euclidean, knn__n_neighbors=3, knn__weights=distance; total time=   0.0s\n",
      "[CV] END knn__metric=euclidean, knn__n_neighbors=3, knn__weights=distance; total time=   0.0s\n",
      "[CV] END knn__metric=euclidean, knn__n_neighbors=3, knn__weights=distance; total time=   0.0s\n",
      "[CV] END knn__metric=euclidean, knn__n_neighbors=4, knn__weights=uniform; total time=   0.0s\n",
      "[CV] END knn__metric=euclidean, knn__n_neighbors=4, knn__weights=uniform; total time=   0.0s\n",
      "[CV] END knn__metric=euclidean, knn__n_neighbors=4, knn__weights=uniform; total time=   0.0s\n",
      "[CV] END knn__metric=euclidean, knn__n_neighbors=4, knn__weights=uniform; total time=   0.0s\n",
      "[CV] END knn__metric=euclidean, knn__n_neighbors=4, knn__weights=uniform; total time=   0.0s\n",
      "[CV] END knn__metric=euclidean, knn__n_neighbors=4, knn__weights=distance; total time=   0.0s\n",
      "[CV] END knn__metric=euclidean, knn__n_neighbors=4, knn__weights=distance; total time=   0.0s\n",
      "[CV] END knn__metric=euclidean, knn__n_neighbors=4, knn__weights=distance; total time=   0.0s\n",
      "[CV] END knn__metric=euclidean, knn__n_neighbors=4, knn__weights=distance; total time=   0.0s\n",
      "[CV] END knn__metric=euclidean, knn__n_neighbors=4, knn__weights=distance; total time=   0.0s\n",
      "[CV] END knn__metric=euclidean, knn__n_neighbors=5, knn__weights=uniform; total time=   0.0s\n",
      "[CV] END knn__metric=euclidean, knn__n_neighbors=5, knn__weights=uniform; total time=   0.0s\n",
      "[CV] END knn__metric=euclidean, knn__n_neighbors=5, knn__weights=uniform; total time=   0.0s\n",
      "[CV] END knn__metric=euclidean, knn__n_neighbors=5, knn__weights=uniform; total time=   0.0s\n",
      "[CV] END knn__metric=euclidean, knn__n_neighbors=5, knn__weights=uniform; total time=   0.0s\n",
      "[CV] END knn__metric=euclidean, knn__n_neighbors=5, knn__weights=distance; total time=   0.0s\n",
      "[CV] END knn__metric=euclidean, knn__n_neighbors=5, knn__weights=distance; total time=   0.0s\n",
      "[CV] END knn__metric=euclidean, knn__n_neighbors=5, knn__weights=distance; total time=   0.0s\n",
      "[CV] END knn__metric=euclidean, knn__n_neighbors=5, knn__weights=distance; total time=   0.0s\n",
      "[CV] END knn__metric=euclidean, knn__n_neighbors=5, knn__weights=distance; total time=   0.0s\n",
      "[CV] END knn__metric=euclidean, knn__n_neighbors=6, knn__weights=uniform; total time=   0.0s\n",
      "[CV] END knn__metric=euclidean, knn__n_neighbors=6, knn__weights=uniform; total time=   0.0s\n",
      "[CV] END knn__metric=euclidean, knn__n_neighbors=6, knn__weights=uniform; total time=   0.0s\n",
      "[CV] END knn__metric=euclidean, knn__n_neighbors=6, knn__weights=uniform; total time=   0.0s\n",
      "[CV] END knn__metric=euclidean, knn__n_neighbors=6, knn__weights=uniform; total time=   0.0s\n",
      "[CV] END knn__metric=euclidean, knn__n_neighbors=6, knn__weights=distance; total time=   0.0s\n",
      "[CV] END knn__metric=euclidean, knn__n_neighbors=6, knn__weights=distance; total time=   0.0s\n",
      "[CV] END knn__metric=euclidean, knn__n_neighbors=6, knn__weights=distance; total time=   0.0s\n",
      "[CV] END knn__metric=euclidean, knn__n_neighbors=6, knn__weights=distance; total time=   0.0s\n",
      "[CV] END knn__metric=euclidean, knn__n_neighbors=6, knn__weights=distance; total time=   0.0s\n",
      "[CV] END knn__metric=manhattan, knn__n_neighbors=2, knn__weights=uniform; total time=   0.0s\n",
      "[CV] END knn__metric=manhattan, knn__n_neighbors=2, knn__weights=uniform; total time=   0.0s\n",
      "[CV] END knn__metric=manhattan, knn__n_neighbors=2, knn__weights=uniform; total time=   0.0s\n",
      "[CV] END knn__metric=manhattan, knn__n_neighbors=2, knn__weights=uniform; total time=   0.0s\n",
      "[CV] END knn__metric=manhattan, knn__n_neighbors=2, knn__weights=uniform; total time=   0.0s\n",
      "[CV] END knn__metric=manhattan, knn__n_neighbors=2, knn__weights=distance; total time=   0.0s\n",
      "[CV] END knn__metric=manhattan, knn__n_neighbors=2, knn__weights=distance; total time=   0.0s\n",
      "[CV] END knn__metric=manhattan, knn__n_neighbors=2, knn__weights=distance; total time=   0.0s\n",
      "[CV] END knn__metric=manhattan, knn__n_neighbors=2, knn__weights=distance; total time=   0.0s\n",
      "[CV] END knn__metric=manhattan, knn__n_neighbors=2, knn__weights=distance; total time=   0.0s\n",
      "[CV] END knn__metric=manhattan, knn__n_neighbors=3, knn__weights=uniform; total time=   0.0s\n",
      "[CV] END knn__metric=manhattan, knn__n_neighbors=3, knn__weights=uniform; total time=   0.0s\n",
      "[CV] END knn__metric=manhattan, knn__n_neighbors=3, knn__weights=uniform; total time=   0.0s\n",
      "[CV] END knn__metric=manhattan, knn__n_neighbors=3, knn__weights=uniform; total time=   0.0s\n",
      "[CV] END knn__metric=manhattan, knn__n_neighbors=3, knn__weights=uniform; total time=   0.0s\n",
      "[CV] END knn__metric=manhattan, knn__n_neighbors=3, knn__weights=distance; total time=   0.0s\n",
      "[CV] END knn__metric=manhattan, knn__n_neighbors=3, knn__weights=distance; total time=   0.0s\n",
      "[CV] END knn__metric=manhattan, knn__n_neighbors=3, knn__weights=distance; total time=   0.0s\n",
      "[CV] END knn__metric=manhattan, knn__n_neighbors=3, knn__weights=distance; total time=   0.0s\n",
      "[CV] END knn__metric=manhattan, knn__n_neighbors=3, knn__weights=distance; total time=   0.0s\n",
      "[CV] END knn__metric=manhattan, knn__n_neighbors=4, knn__weights=uniform; total time=   0.0s\n",
      "[CV] END knn__metric=manhattan, knn__n_neighbors=4, knn__weights=uniform; total time=   0.0s\n",
      "[CV] END knn__metric=manhattan, knn__n_neighbors=4, knn__weights=uniform; total time=   0.0s\n",
      "[CV] END knn__metric=manhattan, knn__n_neighbors=4, knn__weights=uniform; total time=   0.0s\n",
      "[CV] END knn__metric=manhattan, knn__n_neighbors=4, knn__weights=uniform; total time=   0.0s\n",
      "[CV] END knn__metric=manhattan, knn__n_neighbors=4, knn__weights=distance; total time=   0.0s\n",
      "[CV] END knn__metric=manhattan, knn__n_neighbors=4, knn__weights=distance; total time=   0.0s\n",
      "[CV] END knn__metric=manhattan, knn__n_neighbors=4, knn__weights=distance; total time=   0.0s\n",
      "[CV] END knn__metric=manhattan, knn__n_neighbors=4, knn__weights=distance; total time=   0.0s\n",
      "[CV] END knn__metric=manhattan, knn__n_neighbors=4, knn__weights=distance; total time=   0.0s\n",
      "[CV] END knn__metric=manhattan, knn__n_neighbors=5, knn__weights=uniform; total time=   0.0s\n",
      "[CV] END knn__metric=manhattan, knn__n_neighbors=5, knn__weights=uniform; total time=   0.0s\n",
      "[CV] END knn__metric=manhattan, knn__n_neighbors=5, knn__weights=uniform; total time=   0.0s\n",
      "[CV] END knn__metric=manhattan, knn__n_neighbors=5, knn__weights=uniform; total time=   0.0s\n",
      "[CV] END knn__metric=manhattan, knn__n_neighbors=5, knn__weights=uniform; total time=   0.0s\n",
      "[CV] END knn__metric=manhattan, knn__n_neighbors=5, knn__weights=distance; total time=   0.0s\n",
      "[CV] END knn__metric=manhattan, knn__n_neighbors=5, knn__weights=distance; total time=   0.0s\n",
      "[CV] END knn__metric=manhattan, knn__n_neighbors=5, knn__weights=distance; total time=   0.0s\n",
      "[CV] END knn__metric=manhattan, knn__n_neighbors=5, knn__weights=distance; total time=   0.0s\n",
      "[CV] END knn__metric=manhattan, knn__n_neighbors=5, knn__weights=distance; total time=   0.0s\n",
      "[CV] END knn__metric=manhattan, knn__n_neighbors=6, knn__weights=uniform; total time=   0.0s\n",
      "[CV] END knn__metric=manhattan, knn__n_neighbors=6, knn__weights=uniform; total time=   0.0s\n",
      "[CV] END knn__metric=manhattan, knn__n_neighbors=6, knn__weights=uniform; total time=   0.0s\n",
      "[CV] END knn__metric=manhattan, knn__n_neighbors=6, knn__weights=uniform; total time=   0.0s\n",
      "[CV] END knn__metric=manhattan, knn__n_neighbors=6, knn__weights=uniform; total time=   0.0s\n",
      "[CV] END knn__metric=manhattan, knn__n_neighbors=6, knn__weights=distance; total time=   0.0s\n",
      "[CV] END knn__metric=manhattan, knn__n_neighbors=6, knn__weights=distance; total time=   0.0s\n",
      "[CV] END knn__metric=manhattan, knn__n_neighbors=6, knn__weights=distance; total time=   0.0s\n",
      "[CV] END knn__metric=manhattan, knn__n_neighbors=6, knn__weights=distance; total time=   0.0s\n",
      "[CV] END knn__metric=manhattan, knn__n_neighbors=6, knn__weights=distance; total time=   0.0s\n"
     ]
    },
    {
     "data": {
      "text/html": [
       "<style>#sk-container-id-18 {color: black;}#sk-container-id-18 pre{padding: 0;}#sk-container-id-18 div.sk-toggleable {background-color: white;}#sk-container-id-18 label.sk-toggleable__label {cursor: pointer;display: block;width: 100%;margin-bottom: 0;padding: 0.3em;box-sizing: border-box;text-align: center;}#sk-container-id-18 label.sk-toggleable__label-arrow:before {content: \"▸\";float: left;margin-right: 0.25em;color: #696969;}#sk-container-id-18 label.sk-toggleable__label-arrow:hover:before {color: black;}#sk-container-id-18 div.sk-estimator:hover label.sk-toggleable__label-arrow:before {color: black;}#sk-container-id-18 div.sk-toggleable__content {max-height: 0;max-width: 0;overflow: hidden;text-align: left;background-color: #f0f8ff;}#sk-container-id-18 div.sk-toggleable__content pre {margin: 0.2em;color: black;border-radius: 0.25em;background-color: #f0f8ff;}#sk-container-id-18 input.sk-toggleable__control:checked~div.sk-toggleable__content {max-height: 200px;max-width: 100%;overflow: auto;}#sk-container-id-18 input.sk-toggleable__control:checked~label.sk-toggleable__label-arrow:before {content: \"▾\";}#sk-container-id-18 div.sk-estimator input.sk-toggleable__control:checked~label.sk-toggleable__label {background-color: #d4ebff;}#sk-container-id-18 div.sk-label input.sk-toggleable__control:checked~label.sk-toggleable__label {background-color: #d4ebff;}#sk-container-id-18 input.sk-hidden--visually {border: 0;clip: rect(1px 1px 1px 1px);clip: rect(1px, 1px, 1px, 1px);height: 1px;margin: -1px;overflow: hidden;padding: 0;position: absolute;width: 1px;}#sk-container-id-18 div.sk-estimator {font-family: monospace;background-color: #f0f8ff;border: 1px dotted black;border-radius: 0.25em;box-sizing: border-box;margin-bottom: 0.5em;}#sk-container-id-18 div.sk-estimator:hover {background-color: #d4ebff;}#sk-container-id-18 div.sk-parallel-item::after {content: \"\";width: 100%;border-bottom: 1px solid gray;flex-grow: 1;}#sk-container-id-18 div.sk-label:hover label.sk-toggleable__label {background-color: #d4ebff;}#sk-container-id-18 div.sk-serial::before {content: \"\";position: absolute;border-left: 1px solid gray;box-sizing: border-box;top: 0;bottom: 0;left: 50%;z-index: 0;}#sk-container-id-18 div.sk-serial {display: flex;flex-direction: column;align-items: center;background-color: white;padding-right: 0.2em;padding-left: 0.2em;position: relative;}#sk-container-id-18 div.sk-item {position: relative;z-index: 1;}#sk-container-id-18 div.sk-parallel {display: flex;align-items: stretch;justify-content: center;background-color: white;position: relative;}#sk-container-id-18 div.sk-item::before, #sk-container-id-18 div.sk-parallel-item::before {content: \"\";position: absolute;border-left: 1px solid gray;box-sizing: border-box;top: 0;bottom: 0;left: 50%;z-index: -1;}#sk-container-id-18 div.sk-parallel-item {display: flex;flex-direction: column;z-index: 1;position: relative;background-color: white;}#sk-container-id-18 div.sk-parallel-item:first-child::after {align-self: flex-end;width: 50%;}#sk-container-id-18 div.sk-parallel-item:last-child::after {align-self: flex-start;width: 50%;}#sk-container-id-18 div.sk-parallel-item:only-child::after {width: 0;}#sk-container-id-18 div.sk-dashed-wrapped {border: 1px dashed gray;margin: 0 0.4em 0.5em 0.4em;box-sizing: border-box;padding-bottom: 0.4em;background-color: white;}#sk-container-id-18 div.sk-label label {font-family: monospace;font-weight: bold;display: inline-block;line-height: 1.2em;}#sk-container-id-18 div.sk-label-container {text-align: center;}#sk-container-id-18 div.sk-container {/* jupyter's `normalize.less` sets `[hidden] { display: none; }` but bootstrap.min.css set `[hidden] { display: none !important; }` so we also need the `!important` here to be able to override the default hidden behavior on the sphinx rendered scikit-learn.org. See: https://github.com/scikit-learn/scikit-learn/issues/21755 */display: inline-block !important;position: relative;}#sk-container-id-18 div.sk-text-repr-fallback {display: none;}</style><div id=\"sk-container-id-18\" class=\"sk-top-container\"><div class=\"sk-text-repr-fallback\"><pre>GridSearchCV(cv=KFold(n_splits=5, random_state=42, shuffle=True),\n",
       "             estimator=Pipeline(steps=[(&#x27;col_tx&#x27;,\n",
       "                                        ColumnTransformer(transformers=[(&#x27;simple_impute&#x27;,\n",
       "                                                                         SimpleImputer(),\n",
       "                                                                         [&#x27;Glucose&#x27;,\n",
       "                                                                          &#x27;BloodPressure&#x27;,\n",
       "                                                                          &#x27;BMI&#x27;]),\n",
       "                                                                        (&#x27;identity&#x27;,\n",
       "                                                                         IdentityTransformer(),\n",
       "                                                                         [&#x27;Pregnancies&#x27;,\n",
       "                                                                          &#x27;SkinThickness&#x27;,\n",
       "                                                                          &#x27;Insulin&#x27;,\n",
       "                                                                          &#x27;DiabetesPedigreeFunction&#x27;,\n",
       "                                                                          &#x27;Age&#x27;])])),\n",
       "                                       (&#x27;iterativeimputer&#x27;, IterativeImputer()),\n",
       "                                       (&#x27;standard_scaler&#x27;, StandardScaler()),\n",
       "                                       (&#x27;knn&#x27;, KNeighborsClassifier())]),\n",
       "             param_grid={&#x27;knn__metric&#x27;: [&#x27;euclidean&#x27;, &#x27;manhattan&#x27;],\n",
       "                         &#x27;knn__n_neighbors&#x27;: [2, 3, 4, 5, 6],\n",
       "                         &#x27;knn__weights&#x27;: [&#x27;uniform&#x27;, &#x27;distance&#x27;]},\n",
       "             scoring=&#x27;accuracy&#x27;, verbose=2)</pre><b>In a Jupyter environment, please rerun this cell to show the HTML representation or trust the notebook. <br />On GitHub, the HTML representation is unable to render, please try loading this page with nbviewer.org.</b></div><div class=\"sk-container\" hidden><div class=\"sk-item sk-dashed-wrapped\"><div class=\"sk-label-container\"><div class=\"sk-label sk-toggleable\"><input class=\"sk-toggleable__control sk-hidden--visually\" id=\"sk-estimator-id-118\" type=\"checkbox\" ><label for=\"sk-estimator-id-118\" class=\"sk-toggleable__label sk-toggleable__label-arrow\">GridSearchCV</label><div class=\"sk-toggleable__content\"><pre>GridSearchCV(cv=KFold(n_splits=5, random_state=42, shuffle=True),\n",
       "             estimator=Pipeline(steps=[(&#x27;col_tx&#x27;,\n",
       "                                        ColumnTransformer(transformers=[(&#x27;simple_impute&#x27;,\n",
       "                                                                         SimpleImputer(),\n",
       "                                                                         [&#x27;Glucose&#x27;,\n",
       "                                                                          &#x27;BloodPressure&#x27;,\n",
       "                                                                          &#x27;BMI&#x27;]),\n",
       "                                                                        (&#x27;identity&#x27;,\n",
       "                                                                         IdentityTransformer(),\n",
       "                                                                         [&#x27;Pregnancies&#x27;,\n",
       "                                                                          &#x27;SkinThickness&#x27;,\n",
       "                                                                          &#x27;Insulin&#x27;,\n",
       "                                                                          &#x27;DiabetesPedigreeFunction&#x27;,\n",
       "                                                                          &#x27;Age&#x27;])])),\n",
       "                                       (&#x27;iterativeimputer&#x27;, IterativeImputer()),\n",
       "                                       (&#x27;standard_scaler&#x27;, StandardScaler()),\n",
       "                                       (&#x27;knn&#x27;, KNeighborsClassifier())]),\n",
       "             param_grid={&#x27;knn__metric&#x27;: [&#x27;euclidean&#x27;, &#x27;manhattan&#x27;],\n",
       "                         &#x27;knn__n_neighbors&#x27;: [2, 3, 4, 5, 6],\n",
       "                         &#x27;knn__weights&#x27;: [&#x27;uniform&#x27;, &#x27;distance&#x27;]},\n",
       "             scoring=&#x27;accuracy&#x27;, verbose=2)</pre></div></div></div><div class=\"sk-parallel\"><div class=\"sk-parallel-item\"><div class=\"sk-item\"><div class=\"sk-label-container\"><div class=\"sk-label sk-toggleable\"><input class=\"sk-toggleable__control sk-hidden--visually\" id=\"sk-estimator-id-119\" type=\"checkbox\" ><label for=\"sk-estimator-id-119\" class=\"sk-toggleable__label sk-toggleable__label-arrow\">estimator: Pipeline</label><div class=\"sk-toggleable__content\"><pre>Pipeline(steps=[(&#x27;col_tx&#x27;,\n",
       "                 ColumnTransformer(transformers=[(&#x27;simple_impute&#x27;,\n",
       "                                                  SimpleImputer(),\n",
       "                                                  [&#x27;Glucose&#x27;, &#x27;BloodPressure&#x27;,\n",
       "                                                   &#x27;BMI&#x27;]),\n",
       "                                                 (&#x27;identity&#x27;,\n",
       "                                                  IdentityTransformer(),\n",
       "                                                  [&#x27;Pregnancies&#x27;,\n",
       "                                                   &#x27;SkinThickness&#x27;, &#x27;Insulin&#x27;,\n",
       "                                                   &#x27;DiabetesPedigreeFunction&#x27;,\n",
       "                                                   &#x27;Age&#x27;])])),\n",
       "                (&#x27;iterativeimputer&#x27;, IterativeImputer()),\n",
       "                (&#x27;standard_scaler&#x27;, StandardScaler()),\n",
       "                (&#x27;knn&#x27;, KNeighborsClassifier())])</pre></div></div></div><div class=\"sk-serial\"><div class=\"sk-item\"><div class=\"sk-serial\"><div class=\"sk-item sk-dashed-wrapped\"><div class=\"sk-label-container\"><div class=\"sk-label sk-toggleable\"><input class=\"sk-toggleable__control sk-hidden--visually\" id=\"sk-estimator-id-120\" type=\"checkbox\" ><label for=\"sk-estimator-id-120\" class=\"sk-toggleable__label sk-toggleable__label-arrow\">col_tx: ColumnTransformer</label><div class=\"sk-toggleable__content\"><pre>ColumnTransformer(transformers=[(&#x27;simple_impute&#x27;, SimpleImputer(),\n",
       "                                 [&#x27;Glucose&#x27;, &#x27;BloodPressure&#x27;, &#x27;BMI&#x27;]),\n",
       "                                (&#x27;identity&#x27;, IdentityTransformer(),\n",
       "                                 [&#x27;Pregnancies&#x27;, &#x27;SkinThickness&#x27;, &#x27;Insulin&#x27;,\n",
       "                                  &#x27;DiabetesPedigreeFunction&#x27;, &#x27;Age&#x27;])])</pre></div></div></div><div class=\"sk-parallel\"><div class=\"sk-parallel-item\"><div class=\"sk-item\"><div class=\"sk-label-container\"><div class=\"sk-label sk-toggleable\"><input class=\"sk-toggleable__control sk-hidden--visually\" id=\"sk-estimator-id-121\" type=\"checkbox\" ><label for=\"sk-estimator-id-121\" class=\"sk-toggleable__label sk-toggleable__label-arrow\">simple_impute</label><div class=\"sk-toggleable__content\"><pre>[&#x27;Glucose&#x27;, &#x27;BloodPressure&#x27;, &#x27;BMI&#x27;]</pre></div></div></div><div class=\"sk-serial\"><div class=\"sk-item\"><div class=\"sk-estimator sk-toggleable\"><input class=\"sk-toggleable__control sk-hidden--visually\" id=\"sk-estimator-id-122\" type=\"checkbox\" ><label for=\"sk-estimator-id-122\" class=\"sk-toggleable__label sk-toggleable__label-arrow\">SimpleImputer</label><div class=\"sk-toggleable__content\"><pre>SimpleImputer()</pre></div></div></div></div></div></div><div class=\"sk-parallel-item\"><div class=\"sk-item\"><div class=\"sk-label-container\"><div class=\"sk-label sk-toggleable\"><input class=\"sk-toggleable__control sk-hidden--visually\" id=\"sk-estimator-id-123\" type=\"checkbox\" ><label for=\"sk-estimator-id-123\" class=\"sk-toggleable__label sk-toggleable__label-arrow\">identity</label><div class=\"sk-toggleable__content\"><pre>[&#x27;Pregnancies&#x27;, &#x27;SkinThickness&#x27;, &#x27;Insulin&#x27;, &#x27;DiabetesPedigreeFunction&#x27;, &#x27;Age&#x27;]</pre></div></div></div><div class=\"sk-serial\"><div class=\"sk-item\"><div class=\"sk-estimator sk-toggleable\"><input class=\"sk-toggleable__control sk-hidden--visually\" id=\"sk-estimator-id-124\" type=\"checkbox\" ><label for=\"sk-estimator-id-124\" class=\"sk-toggleable__label sk-toggleable__label-arrow\">IdentityTransformer</label><div class=\"sk-toggleable__content\"><pre>IdentityTransformer()</pre></div></div></div></div></div></div></div></div><div class=\"sk-item\"><div class=\"sk-estimator sk-toggleable\"><input class=\"sk-toggleable__control sk-hidden--visually\" id=\"sk-estimator-id-125\" type=\"checkbox\" ><label for=\"sk-estimator-id-125\" class=\"sk-toggleable__label sk-toggleable__label-arrow\">IterativeImputer</label><div class=\"sk-toggleable__content\"><pre>IterativeImputer()</pre></div></div></div><div class=\"sk-item\"><div class=\"sk-estimator sk-toggleable\"><input class=\"sk-toggleable__control sk-hidden--visually\" id=\"sk-estimator-id-126\" type=\"checkbox\" ><label for=\"sk-estimator-id-126\" class=\"sk-toggleable__label sk-toggleable__label-arrow\">StandardScaler</label><div class=\"sk-toggleable__content\"><pre>StandardScaler()</pre></div></div></div><div class=\"sk-item\"><div class=\"sk-estimator sk-toggleable\"><input class=\"sk-toggleable__control sk-hidden--visually\" id=\"sk-estimator-id-127\" type=\"checkbox\" ><label for=\"sk-estimator-id-127\" class=\"sk-toggleable__label sk-toggleable__label-arrow\">KNeighborsClassifier</label><div class=\"sk-toggleable__content\"><pre>KNeighborsClassifier()</pre></div></div></div></div></div></div></div></div></div></div></div></div>"
      ],
      "text/plain": [
       "GridSearchCV(cv=KFold(n_splits=5, random_state=42, shuffle=True),\n",
       "             estimator=Pipeline(steps=[('col_tx',\n",
       "                                        ColumnTransformer(transformers=[('simple_impute',\n",
       "                                                                         SimpleImputer(),\n",
       "                                                                         ['Glucose',\n",
       "                                                                          'BloodPressure',\n",
       "                                                                          'BMI']),\n",
       "                                                                        ('identity',\n",
       "                                                                         IdentityTransformer(),\n",
       "                                                                         ['Pregnancies',\n",
       "                                                                          'SkinThickness',\n",
       "                                                                          'Insulin',\n",
       "                                                                          'DiabetesPedigreeFunction',\n",
       "                                                                          'Age'])])),\n",
       "                                       ('iterativeimputer', IterativeImputer()),\n",
       "                                       ('standard_scaler', StandardScaler()),\n",
       "                                       ('knn', KNeighborsClassifier())]),\n",
       "             param_grid={'knn__metric': ['euclidean', 'manhattan'],\n",
       "                         'knn__n_neighbors': [2, 3, 4, 5, 6],\n",
       "                         'knn__weights': ['uniform', 'distance']},\n",
       "             scoring='accuracy', verbose=2)"
      ]
     },
     "execution_count": 224,
     "metadata": {},
     "output_type": "execute_result"
    }
   ],
   "source": [
    "\n",
    "# Define KFold for cross-validation\n",
    "\n",
    "# Define hyperparameters and their possible values\n",
    "\n",
    "# Create a GridSearchCV object\n",
    "\n",
    "\n",
    "# Fit the GridSearchCV object to your data\n",
    "grid_search.fit(X_train, y_train)\n"
   ]
  },
  {
   "cell_type": "code",
   "execution_count": 230,
   "id": "1a526416",
   "metadata": {},
   "outputs": [],
   "source": [
    "# TODO: 36. Use GridSearchCV with KFold = 3 for CV and train a model using the pipeline developed earlier \n",
    "\n",
    "# Create KFold here\n",
    "from sklearn.model_selection import GridSearchCV, KFold\n",
    "\n",
    "kfold = KFold(n_splits=5, shuffle=True, random_state=42)  \n",
    "\n",
    "# Define hyperparameters\n",
    "grid_params = {\n",
    "    'knn__n_neighbors': [2, 3, 4, 5, 6],\n",
    "    'knn__weights': ['uniform', 'distance'],\n",
    "    'knn__metric': ['euclidean', 'manhattan']\n",
    "}\n",
    "\n",
    "\n",
    "#Create Grid SearchCV object here using KFold object and gridparams\n",
    "grid = GridSearchCV(estimator=pipeline,param_grid=grid_params,  cv=kfold)\n",
    "\n",
    "\n",
    "#Do hyperparameter tuning here with GridSearchCV object\n",
    "fitted_model = grid.fit(X_train, y_train)"
   ]
  },
  {
   "cell_type": "code",
   "execution_count": 231,
   "id": "f0398f53",
   "metadata": {},
   "outputs": [
    {
     "name": "stdout",
     "output_type": "stream",
     "text": [
      "0.7616312741312742\n",
      "Pipeline(steps=[('col_tx',\n",
      "                 ColumnTransformer(transformers=[('simple_impute',\n",
      "                                                  SimpleImputer(),\n",
      "                                                  ['Glucose', 'BloodPressure',\n",
      "                                                   'BMI']),\n",
      "                                                 ('identity',\n",
      "                                                  IdentityTransformer(),\n",
      "                                                  ['Pregnancies',\n",
      "                                                   'SkinThickness', 'Insulin',\n",
      "                                                   'DiabetesPedigreeFunction',\n",
      "                                                   'Age'])])),\n",
      "                ('iterativeimputer', IterativeImputer()),\n",
      "                ('standard_scaler', StandardScaler()),\n",
      "                ('knn',\n",
      "                 KNeighborsClassifier(metric='euclidean', n_neighbors=6,\n",
      "                                      weights='distance'))])\n",
      "{'knn__metric': 'euclidean', 'knn__n_neighbors': 6, 'knn__weights': 'distance'}\n"
     ]
    }
   ],
   "source": [
    "# TODO: 37 Display the results for best score, best estimator and best params selected by Cross validation\n",
    "# fitted_model is the result of hyperpaarameter tuning in the previous cell\n",
    "print(fitted_model.best_score_)\n",
    "print(fitted_model.best_estimator_)\n",
    "print(fitted_model.best_params_)"
   ]
  },
  {
   "cell_type": "code",
   "execution_count": 232,
   "id": "ff5dded8",
   "metadata": {},
   "outputs": [
    {
     "name": "stdout",
     "output_type": "stream",
     "text": [
      "Accuracy Score: 0.6881720430107527\n"
     ]
    }
   ],
   "source": [
    "# TODO: 38 Do predictions with gridsearch and calculate the accuracy score\n",
    "\n",
    "best_model = grid.best_estimator_\n",
    "y_pred = best_model.predict(X_test)\n",
    "accuracy = accuracy_score(y_test, y_pred)\n",
    "print(\"Accuracy Score:\", accuracy)"
   ]
  },
  {
   "cell_type": "markdown",
   "id": "e70e9814",
   "metadata": {},
   "source": [
    "##### Confusion matrix calculation\n",
    " \n",
    "The next 3 cells are meant for providing hints to calculating the confusion matrix "
   ]
  },
  {
   "cell_type": "code",
   "execution_count": 233,
   "id": "ba7e59e9",
   "metadata": {},
   "outputs": [
    {
     "data": {
      "text/plain": [
       "{'col_tx': ColumnTransformer(transformers=[('simple_impute', SimpleImputer(),\n",
       "                                  ['Glucose', 'BloodPressure', 'BMI']),\n",
       "                                 ('identity', IdentityTransformer(),\n",
       "                                  ['Pregnancies', 'SkinThickness', 'Insulin',\n",
       "                                   'DiabetesPedigreeFunction', 'Age'])]),\n",
       " 'iterativeimputer': IterativeImputer(),\n",
       " 'standard_scaler': StandardScaler(),\n",
       " 'knn': KNeighborsClassifier()}"
      ]
     },
     "execution_count": 233,
     "metadata": {},
     "output_type": "execute_result"
    }
   ],
   "source": [
    "# TODO: 39 Put your pipeline name in place of question mark\n",
    "pipeline.named_steps"
   ]
  },
  {
   "cell_type": "code",
   "execution_count": 235,
   "id": "604e19fb",
   "metadata": {},
   "outputs": [
    {
     "data": {
      "text/html": [
       "<style>#sk-container-id-19 {color: black;}#sk-container-id-19 pre{padding: 0;}#sk-container-id-19 div.sk-toggleable {background-color: white;}#sk-container-id-19 label.sk-toggleable__label {cursor: pointer;display: block;width: 100%;margin-bottom: 0;padding: 0.3em;box-sizing: border-box;text-align: center;}#sk-container-id-19 label.sk-toggleable__label-arrow:before {content: \"▸\";float: left;margin-right: 0.25em;color: #696969;}#sk-container-id-19 label.sk-toggleable__label-arrow:hover:before {color: black;}#sk-container-id-19 div.sk-estimator:hover label.sk-toggleable__label-arrow:before {color: black;}#sk-container-id-19 div.sk-toggleable__content {max-height: 0;max-width: 0;overflow: hidden;text-align: left;background-color: #f0f8ff;}#sk-container-id-19 div.sk-toggleable__content pre {margin: 0.2em;color: black;border-radius: 0.25em;background-color: #f0f8ff;}#sk-container-id-19 input.sk-toggleable__control:checked~div.sk-toggleable__content {max-height: 200px;max-width: 100%;overflow: auto;}#sk-container-id-19 input.sk-toggleable__control:checked~label.sk-toggleable__label-arrow:before {content: \"▾\";}#sk-container-id-19 div.sk-estimator input.sk-toggleable__control:checked~label.sk-toggleable__label {background-color: #d4ebff;}#sk-container-id-19 div.sk-label input.sk-toggleable__control:checked~label.sk-toggleable__label {background-color: #d4ebff;}#sk-container-id-19 input.sk-hidden--visually {border: 0;clip: rect(1px 1px 1px 1px);clip: rect(1px, 1px, 1px, 1px);height: 1px;margin: -1px;overflow: hidden;padding: 0;position: absolute;width: 1px;}#sk-container-id-19 div.sk-estimator {font-family: monospace;background-color: #f0f8ff;border: 1px dotted black;border-radius: 0.25em;box-sizing: border-box;margin-bottom: 0.5em;}#sk-container-id-19 div.sk-estimator:hover {background-color: #d4ebff;}#sk-container-id-19 div.sk-parallel-item::after {content: \"\";width: 100%;border-bottom: 1px solid gray;flex-grow: 1;}#sk-container-id-19 div.sk-label:hover label.sk-toggleable__label {background-color: #d4ebff;}#sk-container-id-19 div.sk-serial::before {content: \"\";position: absolute;border-left: 1px solid gray;box-sizing: border-box;top: 0;bottom: 0;left: 50%;z-index: 0;}#sk-container-id-19 div.sk-serial {display: flex;flex-direction: column;align-items: center;background-color: white;padding-right: 0.2em;padding-left: 0.2em;position: relative;}#sk-container-id-19 div.sk-item {position: relative;z-index: 1;}#sk-container-id-19 div.sk-parallel {display: flex;align-items: stretch;justify-content: center;background-color: white;position: relative;}#sk-container-id-19 div.sk-item::before, #sk-container-id-19 div.sk-parallel-item::before {content: \"\";position: absolute;border-left: 1px solid gray;box-sizing: border-box;top: 0;bottom: 0;left: 50%;z-index: -1;}#sk-container-id-19 div.sk-parallel-item {display: flex;flex-direction: column;z-index: 1;position: relative;background-color: white;}#sk-container-id-19 div.sk-parallel-item:first-child::after {align-self: flex-end;width: 50%;}#sk-container-id-19 div.sk-parallel-item:last-child::after {align-self: flex-start;width: 50%;}#sk-container-id-19 div.sk-parallel-item:only-child::after {width: 0;}#sk-container-id-19 div.sk-dashed-wrapped {border: 1px dashed gray;margin: 0 0.4em 0.5em 0.4em;box-sizing: border-box;padding-bottom: 0.4em;background-color: white;}#sk-container-id-19 div.sk-label label {font-family: monospace;font-weight: bold;display: inline-block;line-height: 1.2em;}#sk-container-id-19 div.sk-label-container {text-align: center;}#sk-container-id-19 div.sk-container {/* jupyter's `normalize.less` sets `[hidden] { display: none; }` but bootstrap.min.css set `[hidden] { display: none !important; }` so we also need the `!important` here to be able to override the default hidden behavior on the sphinx rendered scikit-learn.org. See: https://github.com/scikit-learn/scikit-learn/issues/21755 */display: inline-block !important;position: relative;}#sk-container-id-19 div.sk-text-repr-fallback {display: none;}</style><div id=\"sk-container-id-19\" class=\"sk-top-container\"><div class=\"sk-text-repr-fallback\"><pre>KNeighborsClassifier()</pre><b>In a Jupyter environment, please rerun this cell to show the HTML representation or trust the notebook. <br />On GitHub, the HTML representation is unable to render, please try loading this page with nbviewer.org.</b></div><div class=\"sk-container\" hidden><div class=\"sk-item\"><div class=\"sk-estimator sk-toggleable\"><input class=\"sk-toggleable__control sk-hidden--visually\" id=\"sk-estimator-id-128\" type=\"checkbox\" checked><label for=\"sk-estimator-id-128\" class=\"sk-toggleable__label sk-toggleable__label-arrow\">KNeighborsClassifier</label><div class=\"sk-toggleable__content\"><pre>KNeighborsClassifier()</pre></div></div></div></div></div>"
      ],
      "text/plain": [
       "KNeighborsClassifier()"
      ]
     },
     "execution_count": 235,
     "metadata": {},
     "output_type": "execute_result"
    }
   ],
   "source": [
    "# TODO: 40 Put your pipeline name in place of first question mark \n",
    "# and appropriate value for second question mark to display the model\n",
    "pipeline.named_steps['knn']"
   ]
  },
  {
   "cell_type": "code",
   "execution_count": 236,
   "id": "1c7dac0c",
   "metadata": {},
   "outputs": [
    {
     "data": {
      "text/plain": [
       "{'n_neighbors': 5,\n",
       " 'radius': None,\n",
       " 'algorithm': 'auto',\n",
       " 'leaf_size': 30,\n",
       " 'metric': 'minkowski',\n",
       " 'metric_params': None,\n",
       " 'p': 2,\n",
       " 'n_jobs': None,\n",
       " 'weights': 'uniform',\n",
       " 'n_features_in_': 8,\n",
       " 'outputs_2d_': False,\n",
       " 'classes_': array([0, 1], dtype=int64),\n",
       " '_y': array([0, 0, 0, 1, 0, 0, 0, 1, 1, 1, 0, 0, 0, 0, 0, 1, 0, 0, 1, 0, 1, 0,\n",
       "        0, 0, 0, 0, 0, 0, 0, 0, 1, 0, 0, 1, 0, 0, 1, 1, 0, 1, 0, 0, 0, 0,\n",
       "        1, 1, 0, 0, 1, 1, 0, 0, 0, 1, 0, 0, 1, 0, 0, 1, 1, 1, 0, 1, 1, 0,\n",
       "        0, 0, 1, 0, 0, 0, 0, 0, 1, 1, 0, 0, 0, 0, 0, 0, 1, 0, 0, 0, 0, 0,\n",
       "        1, 0, 0, 0, 0, 1, 0, 0, 0, 1, 1, 0, 1, 1, 0, 1, 0, 1, 0, 1, 0, 0,\n",
       "        1, 0, 1, 1, 0, 1, 0, 0, 0, 1, 0, 0, 0, 0, 0, 1, 0, 0, 1, 0, 0, 0,\n",
       "        1, 1, 0, 1, 0, 0, 1, 1, 1, 0, 0, 0, 0, 0, 0, 0, 1, 0, 0, 1, 0, 0,\n",
       "        0, 1, 0, 1, 0, 0, 1, 0, 1, 0, 1, 1, 0, 0, 1, 1, 0, 0, 0, 0, 0, 0,\n",
       "        0, 1, 1, 0, 0, 1, 0, 0, 1, 0, 0, 0, 0, 0, 0, 0, 1, 0, 1, 1, 1, 1,\n",
       "        0, 1, 0, 0, 0, 1, 1, 1, 1, 1, 0, 1, 0, 0, 0, 0, 1, 0, 1, 0, 0, 1,\n",
       "        0, 0, 0, 0, 1, 0, 0, 0, 0, 1, 0, 0, 1, 1, 0, 0, 0, 0, 0, 1, 1, 0,\n",
       "        1, 0, 1, 0, 1, 1, 0, 1, 1, 1, 1, 0, 1, 1, 0, 0, 0, 0, 0, 1, 0, 0,\n",
       "        0, 1, 0, 1, 0, 0, 1, 1, 0, 0, 0, 0, 1, 0, 1, 0, 1, 0, 1, 0, 1, 0,\n",
       "        1, 0, 0, 0, 1, 1, 0, 0, 0, 0, 1, 0, 1, 0, 0, 1, 0, 0, 0, 0, 0, 0,\n",
       "        0, 1, 0, 1, 0, 0, 1, 0, 1, 0, 0, 0, 1, 0, 0, 1, 1, 0, 0, 0, 0, 1,\n",
       "        0, 0, 0, 1, 0, 0, 0, 1, 0, 1, 1, 1, 0, 1, 0, 1, 0, 1, 1, 1, 0, 1,\n",
       "        0, 0, 0, 1, 0, 1, 0, 0, 1, 1, 0, 0, 0, 0, 1, 1, 0, 1, 0, 0, 0, 0,\n",
       "        0, 1, 0, 1, 0, 0, 0, 0, 1, 0, 0, 0, 1, 0, 0, 0, 0, 1, 0, 0, 0, 1,\n",
       "        0, 1, 0, 0, 0, 0, 0, 0, 0, 0, 1, 0, 1, 1, 1, 0, 0, 1, 0, 1, 0, 0,\n",
       "        1, 0, 0, 0, 0, 0, 0, 1, 0, 0, 1, 0, 0, 0, 0, 0, 0, 0, 0, 0, 0, 0,\n",
       "        0, 1, 0, 1, 0, 0, 0, 0, 0, 0, 1, 0, 0, 1, 1, 1, 0, 0, 0, 0, 0, 1,\n",
       "        1, 0, 0, 1, 0, 0, 0, 0, 0, 0, 1, 1, 0, 0, 0, 0, 0, 0, 0, 0, 0, 1,\n",
       "        0, 0, 0, 1, 1, 1, 0, 0, 1, 0, 0, 1, 0, 0, 0, 1, 1, 0, 1, 0, 1, 0,\n",
       "        0, 1, 1, 1, 0, 0, 1, 0, 0, 0, 1, 0, 1, 0, 1, 0, 1, 0, 0, 1, 0, 0,\n",
       "        1, 0, 0, 0, 0, 1, 1, 0, 0, 1, 1, 0, 1, 0, 0, 0, 0, 0, 0, 1, 0, 0,\n",
       "        0, 0, 1, 0, 0, 0, 0, 0], dtype=int64),\n",
       " 'effective_metric_params_': {},\n",
       " 'effective_metric_': 'euclidean',\n",
       " '_fit_method': 'kd_tree',\n",
       " '_fit_X': array([[-0.10345647,  1.40717811, -0.42599312, ..., -0.71800328,\n",
       "         -0.96883242, -0.2482146 ],\n",
       "        [-0.1669644 , -0.1488138 ,  0.6609452 , ...,  0.56067306,\n",
       "         -0.99082191, -0.42442801],\n",
       "        [ 0.30934509, -0.46001218, -0.43755629, ...,  0.83467513,\n",
       "          0.71179295, -1.04117496],\n",
       "        ...,\n",
       "        [ 0.53162285, -0.04508101, -0.87695689, ...,  0.63374028,\n",
       "         -1.0128114 , -1.04117496],\n",
       "        [-0.51625803,  0.26611737, -0.41442995, ..., -0.71800328,\n",
       "         -0.98139784,  1.33770614],\n",
       "        [ 0.02355939,  0.16238458, -0.71507246, ...,  0.30493779,\n",
       "         -0.69239311, -0.2482146 ]]),\n",
       " 'n_samples_fit_': 558,\n",
       " '_tree': <sklearn.neighbors._kd_tree.KDTree at 0x12d4e44e040>}"
      ]
     },
     "execution_count": 236,
     "metadata": {},
     "output_type": "execute_result"
    }
   ],
   "source": [
    "# TODO: 41 Put your pipeline name in place of first question mark \n",
    "# and appropriate value for second question mark to display the model\n",
    "vars(pipeline.named_steps['knn'])"
   ]
  },
  {
   "cell_type": "code",
   "execution_count": 239,
   "id": "5e8fbb9f",
   "metadata": {},
   "outputs": [
    {
     "data": {
      "image/png": "[encoded data removed]",
      "text/plain": [
       "<Figure size 640x480 with 2 Axes>"
      ]
     },
     "metadata": {},
     "output_type": "display_data"
    }
   ],
   "source": [
    "# TODO: 42 Write code to display a confusion matrix by filling the question marks\n",
    "from sklearn.metrics import confusion_matrix\n",
    "from sklearn.metrics import ConfusionMatrixDisplay\n",
    "\n",
    "cm = confusion_matrix(y_test, y_pred, labels=best_model.classes_)\n",
    "disp = ConfusionMatrixDisplay(confusion_matrix=cm, display_labels=best_model.classes_)\n",
    "disp.plot()\n",
    "plt.show()"
   ]
  },
  {
   "cell_type": "code",
   "execution_count": null,
   "id": "5a752f68",
   "metadata": {},
   "outputs": [],
   "source": [
    "# TODO: 43 Interpret the confusion matrix in your own words\n",
    "# True Postives = 30\n",
    "# False Positives = 25\n",
    "# True Negatives = 98\n",
    "# False Negatives = 33"
   ]
  },
  {
   "cell_type": "markdown",
   "id": "dd219375",
   "metadata": {},
   "source": [
    "# Part 4: Save the model as json file, load & use it to do prediction\n",
    "\n",
    "This is optional and will be used to accumulate bonus points as a buffer for the semester lab exam if there is any shortfall"
   ]
  },
  {
   "cell_type": "code",
   "execution_count": 249,
   "id": "2c00e9e1",
   "metadata": {},
   "outputs": [
    {
     "data": {
      "text/plain": [
       "['best_model.pkl']"
      ]
     },
     "execution_count": 249,
     "metadata": {},
     "output_type": "execute_result"
    }
   ],
   "source": [
    "import joblib\n",
    "\n",
    "joblib.dump(best_model, 'best_model.pkl')\n"
   ]
  },
  {
   "cell_type": "code",
   "execution_count": 250,
   "id": "491196a1",
   "metadata": {},
   "outputs": [
    {
     "name": "stdout",
     "output_type": "stream",
     "text": [
      "Accuracy Score: 0.6881720430107527\n"
     ]
    }
   ],
   "source": [
    "\n",
    "loaded_model = joblib.load('best_model.pkl')\n",
    "y_pred = loaded_model.predict(X_test)\n",
    "accuracy = accuracy_score(y_test, y_pred)\n",
    "print(\"Accuracy Score:\", accuracy)"
   ]
  }
 ],
 "metadata": {
  "kernelspec": {
   "display_name": "Python 3 (ipykernel)",
   "language": "python",
   "name": "python3"
  },
  "language_info": {
   "codemirror_mode": {
    "name": "ipython",
    "version": 3
   },
   "file_extension": ".py",
   "mimetype": "text/x-python",
   "name": "python",
   "nbconvert_exporter": "python",
   "pygments_lexer": "ipython3",
   "version": "3.11.4"
  }
 },
 "nbformat": 4,
 "nbformat_minor": 5
}
