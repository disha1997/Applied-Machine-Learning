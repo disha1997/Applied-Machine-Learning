{
  "cells": [
    {
      "cell_type": "code",
      "execution_count": null,
      "metadata": {
        "id": "b_hN0a9Rem7K"
      },
      "outputs": [],
      "source": [
        "import pandas as pd\n",
        "import numpy as np\n",
        "import os\n",
        "from scipy import stats\n",
        "\n",
        "from sklearn.svm import SVC\n",
        "\n",
        "import matplotlib.pyplot as plt\n",
        "import matplotlib.cm as cm\n",
        "%matplotlib inline\n",
        "import seaborn as sns\n",
        "sns.set()\n",
        "from mpl_toolkits import mplot3d"
      ]
    },
    {
      "cell_type": "markdown",
      "metadata": {
        "id": "H8hNj6Nr-IvL"
      },
      "source": [
        "# A. Linear SVM"
      ]
    },
    {
      "cell_type": "markdown",
      "metadata": {
        "id": "gxidcNVA-IvN"
      },
      "source": [
        "##### 1. Create data"
      ]
    },
    {
      "cell_type": "code",
      "execution_count": null,
      "metadata": {
        "id": "eqZPdWn19X4A"
      },
      "outputs": [],
      "source": [
        "from sklearn.datasets import make_blobs\n",
        "\n",
        "# Simulate linearly separable data\n",
        "X, y = make_blobs(n_samples = 50, centers = 2, random_state = 0, cluster_std = 0.60)"
      ]
    },
    {
      "cell_type": "code",
      "execution_count": null,
      "metadata": {
        "id": "D_70FxMH-IvP"
      },
      "outputs": [],
      "source": [
        "fig, ax = plt.subplots(1, 1, figsize = (8, 6))\n",
        "fig.tight_layout(pad = 4.0)\n",
        "ax.scatter(X[:, 0], X[:, 1], c = y, s = 50, cmap = plt.cm.Spectral)"
      ]
    },
    {
      "cell_type": "code",
      "execution_count": null,
      "metadata": {
        "id": "82b4_BtTur-Y"
      },
      "outputs": [],
      "source": [
        "X.shape"
      ]
    },
    {
      "cell_type": "markdown",
      "metadata": {
        "id": "YOMvReuV-IvP"
      },
      "source": [
        "##### 2. Plot few decision boundaries with margin"
      ]
    },
    {
      "cell_type": "code",
      "execution_count": null,
      "metadata": {
        "id": "1kszF9qh-WQr"
      },
      "outputs": [],
      "source": [
        "# Draw few lines that separate the linearly separable data\n",
        "fig, ax = plt.subplots(1, 1, figsize = (8, 6))\n",
        "fig.tight_layout(pad = 4.0)\n",
        "xfit = np.linspace(-1, 3.5)\n",
        "ax.scatter(X[:, 0], X[:, 1], c = y, s = 50, cmap = plt.cm.Spectral)\n",
        "ax.plot([0.6], [2.1], 'x', color = 'red', markeredgewidth = 2, markersize = 10)\n",
        "ax.text(-0.1, 2.1, 'new data', fontsize = 12)\n",
        "for w, b in [(1, 0.65), (0.5, 1.6), (-0.2, 2.9)]:\n",
        "  ax.plot(xfit, w * xfit + b, '--k')\n",
        "  ax.set_xlim(-1, 3.5);"
      ]
    },
    {
      "cell_type": "code",
      "execution_count": null,
      "metadata": {
        "id": "_viqo9GG-ygU"
      },
      "outputs": [],
      "source": [
        "## Plot margins for the lines that separate the linearly separable data\n",
        "fig, ax = plt.subplots(1, 1, figsize = (8, 6))\n",
        "fig.tight_layout(pad = 4.0)\n",
        "xfit = np.linspace(-1, 3.5)\n",
        "plt.scatter(X[:, 0], X[:, 1], c = y, s = 50, cmap = plt.cm.Spectral)\n",
        "for w, b, d in [(1, 0.65, 0.33), (0.5, 1.6, 0.55), (-0.2, 2.9, 0.2)]:\n",
        "  yfit = w * xfit + b\n",
        "  ax.plot(xfit, yfit, '--k')\n",
        "  ax.fill_between(xfit, yfit - d, yfit + d, edgecolor = 'none', color = '#AAAAAA', alpha=0.4)\n",
        "ax.set_xlim(-1, 3.5)"
      ]
    },
    {
      "cell_type": "markdown",
      "metadata": {
        "id": "PlGH9dwy-IvQ"
      },
      "source": [
        "##### 3. Utility functions"
      ]
    },
    {
      "cell_type": "code",
      "execution_count": null,
      "metadata": {
        "id": "BJuMTKK8-IvR"
      },
      "outputs": [],
      "source": [
        "# User-defined function to plot the decision boundary with margins\n",
        "# for a two-dimensional SVC\n",
        "def plot_svc_decision_function(model, ax = None, plot_margin = True, plot_support = True):\n",
        "  if ax is None:\n",
        "    ax = plt.gca()\n",
        "\n",
        "  # Generate 2D grid of points with 1000 x 1000 points\n",
        "  x1, x2 = np.mgrid[np.min(X[:, 0]) - 0.5:np.max(X[:, 0]) + 0.5:1000j,\n",
        "                    np.min(X[:, 1]) - 0.5:np.max(X[:, 1]) + 0.5:1000j]\n",
        "\n",
        "  ax.scatter(X[:, 0], X[:, 1], c = y, s = 40, cmap = plt.cm.Spectral)\n",
        "  ax.set_xlim(x1.min(), x1.max())\n",
        "  ax.set_ylim(x2.min(), x2.max())\n",
        "  #plt.title(' ')\n",
        "\n",
        "  # Calculate category corresponding to each point on the grid\n",
        "  category = model.predict(np.vstack([x1.flatten(), x2.flatten()]).T).reshape(x1.shape)\n",
        "  ax.contourf(x1, x2, category, cmap = plt.cm.Spectral, alpha = 0.3)\n",
        "\n",
        "  # Plot margin\n",
        "  if plot_margin:\n",
        "    # Calculate score corresponding to each point on grid\n",
        "    score = model.decision_function(np.vstack([x1.flatten(), x2.flatten()]).T).reshape(x1.shape)\n",
        "    ax.contour(x1, x2, score, colors = 'k',\n",
        "               levels = [-1, 0, 1],\n",
        "               linestyles = ['--', '-', '--'])\n",
        "\n",
        "  # Plot support vectors\n",
        "  if plot_support:\n",
        "    ax.scatter(model.support_vectors_[:, 0],\n",
        "               model.support_vectors_[:, 1],\n",
        "               s = 150, linewidth = 1, facecolors = 'none', edgecolors = 'k')"
      ]
    },
    {
      "cell_type": "markdown",
      "metadata": {
        "id": "QjKncEEi-IvS"
      },
      "source": [
        "##### 4. Fit default SVC and plot"
      ]
    },
    {
      "cell_type": "code",
      "execution_count": null,
      "metadata": {
        "id": "KdOUb8SV-IvS"
      },
      "outputs": [],
      "source": [
        "## Fit a linear support vector machine model (linear decision boundary)\n",
        "model = SVC(kernel = 'linear')\n",
        "model.fit(X, y)"
      ]
    },
    {
      "cell_type": "code",
      "execution_count": null,
      "metadata": {
        "id": "SGoxjEEW-IvS"
      },
      "outputs": [],
      "source": [
        "# Plot linear decision boundary of linear model with margins\n",
        "fig, ax = plt.subplots(1, 1, figsize = (8, 6))\n",
        "fig.tight_layout(pad = 4.0)\n",
        "plot_svc_decision_function(model, ax)"
      ]
    },
    {
      "cell_type": "markdown",
      "metadata": {
        "id": "JHoLolb3-IvS"
      },
      "source": [
        "##### 5. Fit SVC with reg parameter C"
      ]
    },
    {
      "cell_type": "code",
      "execution_count": null,
      "metadata": {
        "id": "I_11PBr1_qFu"
      },
      "outputs": [],
      "source": [
        "## Fit a linear support vector machine model (linear decision boundary)\n",
        "model = SVC(kernel = 'linear', C = 1E10)\n",
        "model.fit(X, y)"
      ]
    },
    {
      "cell_type": "code",
      "execution_count": null,
      "metadata": {
        "id": "TWZmvWSm-IvT"
      },
      "outputs": [],
      "source": [
        "# Plot linear decision boundary of linear model with margins\n",
        "fig, ax = plt.subplots(1, 1, figsize = (8, 6))\n",
        "fig.tight_layout(pad = 4.0)\n",
        "plot_svc_decision_function(model, ax)"
      ]
    },
    {
      "cell_type": "markdown",
      "metadata": {
        "id": "MG60k5CA-IvT"
      },
      "source": [
        "##### 6. model coefficients"
      ]
    },
    {
      "cell_type": "code",
      "execution_count": null,
      "metadata": {
        "id": "eNGC0kfGVNZC"
      },
      "outputs": [],
      "source": [
        "# Print the samples that are the support-vectors (special samples)\n",
        "model.support_vectors_"
      ]
    },
    {
      "cell_type": "code",
      "execution_count": null,
      "metadata": {
        "id": "hx8I69zAXK8k"
      },
      "outputs": [],
      "source": [
        "# Bias or intercept of the decision boundary line\n",
        "print(model.intercept_)\n",
        "# Weight for the first output class which is also the decision boundary line's slope\n",
        "print(model.coef_[0][0])\n",
        "# Weights for the two classes\n",
        "print(model.coef_)"
      ]
    },
    {
      "cell_type": "markdown",
      "metadata": {
        "id": "ikpX2Plh-IvU"
      },
      "source": [
        "##### 7. SVM for different C for data is more spread out"
      ]
    },
    {
      "cell_type": "code",
      "execution_count": null,
      "metadata": {
        "id": "I7Q5WGfIEZjc"
      },
      "outputs": [],
      "source": [
        "# Plot the model learned from the first 60 points and then from the\n",
        "# first 120 points of the linearly separable dataset\n",
        "def plot_svm(N = 10, C = 0, ax = None):\n",
        "  X, y = make_blobs(n_samples = 200, centers = 2, random_state = 0,\n",
        "                    cluster_std = 0.60)\n",
        "  X = X[:N]\n",
        "  y = y[:N]\n",
        "  model = SVC(kernel = 'linear', C=C)\n",
        "  model.fit(X, y)\n",
        "  ax = ax or plt.gca()\n",
        "  ax.scatter(X[:, 0], X[:, 1], c = y, s = 50, cmap = plt.cm.Spectral)\n",
        "  ax.set_xlim(-1, 4)\n",
        "  ax.set_ylim(-1, 6)\n",
        "  plot_svc_decision_function(model, ax)"
      ]
    },
    {
      "cell_type": "code",
      "execution_count": null,
      "metadata": {
        "id": "eTQU78tA-IvU"
      },
      "outputs": [],
      "source": [
        "C = C = 1E-2\n",
        "fig, ax = plt.subplots(1, 2, figsize=(16, 6))\n",
        "fig.subplots_adjust(left = 0.0625, right = 0.95, wspace = 0.1)\n",
        "for axi, N in zip(ax, [60, 120]):\n",
        "  plot_svm(N, C, axi)\n",
        "  axi.set_title('N = {0}'.format(N))"
      ]
    },
    {
      "cell_type": "code",
      "execution_count": null,
      "metadata": {
        "id": "9iT3x0-5-IvU"
      },
      "outputs": [],
      "source": [
        "C = 1E5\n",
        "fig, ax = plt.subplots(1, 2, figsize=(16, 6))\n",
        "fig.subplots_adjust(left = 0.0625, right = 0.95, wspace = 0.1)\n",
        "for axi, N in zip(ax, [60, 120]):\n",
        "  plot_svm(N, C, axi)\n",
        "  axi.set_title('N = {0}'.format(N))"
      ]
    },
    {
      "cell_type": "markdown",
      "metadata": {
        "id": "-aJGXFZa-IvU"
      },
      "source": [
        "**Interpreting above result**\n",
        "\n",
        "$$\n",
        "\\mathcal{J}(w, b) = \\min_{w, b} \\frac{\\|w\\|^2}{2} + C \\sum_{i=1}^m max(0, 1-y^{(i)}(w^Tx^{(i)} + b))\n",
        "$$\n",
        "\n",
        "<h5 align=\"center\">Overall Loss = data loss + regularization (penalty) loss</h4>\n",
        "\n",
        "1. Decision boundary has to be linear (because of how we configured SVC)\n",
        "2. When C was less, the overall contribution of the penalty term (second term) to loss is lesser, hence SVM forms a wider margin for support vectors\n",
        "3. When C is high, the contribution of penalty term to overall loss is very high, hence the SVM solver of the overall loss tries to reduce penalties. The only way to do this is by increasing the margin, even at the cost of a higher misclassification rate during training"
      ]
    },
    {
      "cell_type": "markdown",
      "metadata": {
        "id": "-46eWRB9-IvU"
      },
      "source": [
        "# B. Non linear SVM (using Kernels)"
      ]
    },
    {
      "cell_type": "markdown",
      "metadata": {
        "id": "v8VekbcW-IvV"
      },
      "source": [
        "##### 1. Fitting with RBF Kernel"
      ]
    },
    {
      "cell_type": "code",
      "execution_count": null,
      "metadata": {
        "id": "tLvvtoph-IvV"
      },
      "outputs": [],
      "source": [
        "from sklearn.datasets import make_circles"
      ]
    },
    {
      "cell_type": "code",
      "execution_count": null,
      "metadata": {
        "id": "wfqWj1wcG8Nr"
      },
      "outputs": [],
      "source": [
        "# Simulate nonlinear separable data and plot\n",
        "X, y = make_circles(100, factor = .1, noise = .1)\n",
        "fig, ax = plt.subplots(1, 1, figsize = (8, 6))\n",
        "fig.tight_layout(pad = 4.0)\n",
        "ax.scatter(X[:, 0], X[:, 1], c = y, s = 50, cmap = plt.cm.Spectral)"
      ]
    },
    {
      "cell_type": "code",
      "execution_count": null,
      "metadata": {
        "id": "1zZ5glkmJtrE"
      },
      "outputs": [],
      "source": [
        "# Fit a linear model (linear decision boundary) for the nonlinear separable data\n",
        "model = SVC(kernel = 'linear', C = 1e06).fit(X, y)"
      ]
    },
    {
      "cell_type": "code",
      "execution_count": null,
      "metadata": {
        "id": "KR7bdZpwRbqH"
      },
      "outputs": [],
      "source": [
        "# Plot the linear decision boundary with margins\n",
        "fig, ax = plt.subplots(1, 1, figsize = (8, 6))\n",
        "fig.tight_layout(pad = 4.0)\n",
        "ax.scatter(X[:, 0], X[:, 1], c = y, s = 50, cmap = plt.cm.Spectral)\n",
        "plot_svc_decision_function(model, ax, plot_support = False);"
      ]
    },
    {
      "cell_type": "code",
      "execution_count": null,
      "metadata": {
        "id": "x_uoG7cwHIR4"
      },
      "outputs": [],
      "source": [
        "# Let's investigate a new feature for the nonlinear data\n",
        "r = np.exp(-(X ** 2).sum(1))"
      ]
    },
    {
      "cell_type": "code",
      "execution_count": null,
      "metadata": {
        "id": "x1E7_J3yIC1g"
      },
      "outputs": [],
      "source": [
        "# Fit a nonlinear model (nonlinear decision boundary) to the nonlinear data\n",
        "model = SVC(kernel = 'rbf', C = 1E6)\n",
        "model.fit(X, y)"
      ]
    },
    {
      "cell_type": "code",
      "execution_count": null,
      "metadata": {
        "id": "QMQFyq-8IPph"
      },
      "outputs": [],
      "source": [
        "# Plot the nonlinear decision boundary with margins\n",
        "fig, ax = plt.subplots(1, 1, figsize = (8, 6))\n",
        "fig.tight_layout(pad = 4.0)\n",
        "ax.scatter(X[:, 0], X[:, 1], c = y, s = 50, cmap = plt.cm.Spectral)\n",
        "plot_svc_decision_function(model, ax)"
      ]
    },
    {
      "cell_type": "markdown",
      "metadata": {
        "id": "5gxMIsxp-IvW"
      },
      "source": [
        "![Separating Non linear data with linear decision boundary](https://onedrive.live.com/embed?resid=A5A4158EF1352FCB%211976&authkey=%21ABOMS2jSDP8lp3U&width=400)\n",
        "![Non linear data](https://onedrive.live.com/embed?resid=A5A4158EF1352FCB%211975&authkey=%21AMt5oynPpKUuKBw&width=450)"
      ]
    },
    {
      "cell_type": "code",
      "execution_count": null,
      "metadata": {
        "id": "QXvyyvETznwK"
      },
      "outputs": [],
      "source": [
        "model = SVC(kernel = 'rbf', C = 1E-6)\n",
        "model.fit(X, y)\n",
        "fig, ax = plt.subplots(1, 1, figsize = (8, 6))\n",
        "fig.tight_layout(pad = 4.0)\n",
        "ax.scatter(X[:, 0], X[:, 1], c = y, s = 50, cmap = plt.cm.Spectral)\n",
        "plot_svc_decision_function(model, ax)"
      ]
    },
    {
      "cell_type": "markdown",
      "metadata": {
        "id": "hmhv9zlW-IvX"
      },
      "source": [
        "# C. RBF kernel in detail"
      ]
    },
    {
      "cell_type": "code",
      "execution_count": null,
      "metadata": {
        "id": "GBJ97cafIWqU"
      },
      "outputs": [],
      "source": [
        "# Simulate data that is non-separable and plot\n",
        "X, y = make_blobs(n_samples = 100, centers = 2, random_state = 0, cluster_std = 1.2)\n",
        "fig, ax = plt.subplots(1, 1, figsize = (8, 6))\n",
        "fig.tight_layout(pad = 4.0)\n",
        "ax.scatter(X[:, 0], X[:, 1], c = y, s = 50, cmap = plt.cm.Spectral)"
      ]
    },
    {
      "cell_type": "code",
      "execution_count": null,
      "metadata": {
        "id": "CWKz13nQR_Vn"
      },
      "outputs": [],
      "source": [
        "# Fit a linear model (linear decision boundary) to the non-separable data\n",
        "# and investigate the margin for small and large values of parameter C\n",
        "fig, ax = plt.subplots(1, 2, figsize=(16, 6))\n",
        "fig.subplots_adjust(left=0.0625, right=0.95, wspace=0.1)\n",
        "\n",
        "for axi, C in zip(ax, [10.0, 0.1]):\n",
        "  model = SVC(kernel='linear', C=C).fit(X, y)\n",
        "  axi.scatter(X[:, 0], X[:, 1], c = y, s = 50, cmap = plt.cm.Spectral)\n",
        "  plot_svc_decision_function(model, axi)\n",
        "  axi.set_title('C = {0:.1f}'.format(C), size=14)"
      ]
    },
    {
      "cell_type": "code",
      "execution_count": null,
      "metadata": {
        "id": "xh_WS5onQyFK"
      },
      "outputs": [],
      "source": [
        "# Fit a nonlinear model (nonlinear decision boundary) to the non-separable data\n",
        "model = SVC(kernel = 'rbf', C = 1E-3)\n",
        "model.fit(X, y)"
      ]
    },
    {
      "cell_type": "code",
      "execution_count": null,
      "metadata": {
        "id": "8Tb1fW_YQ9mn"
      },
      "outputs": [],
      "source": [
        "# Plot the nonlinear decision boundary\n",
        "fig, ax = plt.subplots(1, 1, figsize = (8, 6))\n",
        "fig.tight_layout(pad = 4.0)\n",
        "ax.scatter(X[:, 0], X[:, 1], c = y, s = 50, cmap = plt.cm.Spectral)\n",
        "plot_svc_decision_function(model, ax, plot_margin = False, plot_support = False)"
      ]
    },
    {
      "cell_type": "code",
      "execution_count": null,
      "metadata": {
        "id": "0hGYZmL1imCg"
      },
      "outputs": [],
      "source": [
        "from itertools import product\n",
        "# Investigate nonlinear decision boundary for non-separable data\n",
        "# for different values of the parameter C\n",
        "fig, ax = plt.subplots(3, 3, figsize=(24, 18))\n",
        "fig.subplots_adjust(left = 0.0625, right = 0.95, wspace = 0.1)\n",
        "\n",
        "for axi, C in zip(ax, [10.0, 1, 0.1]):\n",
        "  for axy, gamma in zip(axi, [10, 0.1, 1]):\n",
        "    model = SVC(kernel = 'rbf', C = C, gamma = gamma).fit(X, y)\n",
        "    axy.scatter(X[:, 0], X[:, 1], c = y, s = 50, cmap = plt.cm.Spectral)\n",
        "    plot_svc_decision_function(model, axy, plot_margin = False, plot_support = False)\n",
        "    axy.set_title(f'C = {C}, Gamma={gamma}', size=14)"
      ]
    },
    {
      "cell_type": "markdown",
      "metadata": {
        "id": "6QMNquXi-Ivc"
      },
      "source": [
        "\n",
        "**Understanding gamma in RBF**\n",
        "\n",
        "![Separating Non linear data with linear decision boundary](https://onedrive.live.com/embed?resid=A5A4158EF1352FCB%211976&authkey=%21ABOMS2jSDP8lp3U&width=400)\n",
        "![Non linear data](https://onedrive.live.com/embed?resid=A5A4158EF1352FCB%211975&authkey=%21AMt5oynPpKUuKBw&width=450)\n",
        "\n",
        "\n",
        "![Kernel formulas](https://onedrive.live.com/embed?resid=A5A4158EF1352FCB%211977&authkey=%21AMwbuXgYaHrSe4I&width=1513&height=243)"
      ]
    },
    {
      "cell_type": "code",
      "execution_count": null,
      "metadata": {
        "id": "SDMPAbqc-Ivc"
      },
      "outputs": [],
      "source": [
        "# Investigate nonlinear decision boundary for non-separable data\n",
        "# for different values of the parameter C\n",
        "fig, ax = plt.subplots(1, 3, figsize=(24, 6))\n",
        "fig.subplots_adjust(left = 0.0625, right = 0.95, wspace = 0.1)\n",
        "\n",
        "for axi, C, gamma in zip(ax, [1, 1, 1], ['scale', 'auto', 1]):\n",
        "  model = SVC(kernel = 'rbf', C = C, gamma = gamma).fit(X, y)\n",
        "  axi.scatter(X[:, 0], X[:, 1], c = y, s = 50, cmap = plt.cm.Spectral)\n",
        "  plot_svc_decision_function(model, axi, plot_margin = False, plot_support = False)\n",
        "  axi.set_title(f'C = {C}, Gamma={gamma}', size=14)"
      ]
    },
    {
      "cell_type": "code",
      "execution_count": null,
      "metadata": {
        "id": "IkFnQHLQ-Ivc"
      },
      "outputs": [],
      "source": []
    }
  ],
  "metadata": {
    "colab": {
      "provenance": []
    },
    "kernelspec": {
      "display_name": "Python 3",
      "name": "python3"
    },
    "language_info": {
      "codemirror_mode": {
        "name": "ipython",
        "version": 3
      },
      "file_extension": ".py",
      "mimetype": "text/x-python",
      "name": "python",
      "nbconvert_exporter": "python",
      "pygments_lexer": "ipython3",
      "version": "3.9.17"
    }
  },
  "nbformat": 4,
  "nbformat_minor": 0
}